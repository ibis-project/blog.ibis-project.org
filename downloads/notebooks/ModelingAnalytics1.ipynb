{
 "metadata": {
  "name": ""
 },
 "nbformat": 3,
 "nbformat_minor": 0,
 "worksheets": [
  {
   "cells": [
    {
     "cell_type": "markdown",
     "metadata": {},
     "source": [
      "<!-- PELICAN_BEGIN_SUMMARY -->\n",
      "Outside of scalability and high performance on large data sets with Python,\n",
      "Ibis is focused on simplifying analytics tasks for end users. By designing a\n",
      "rich pandas-like domain specific language (DSL) embedded in Python code, we can\n",
      "hide away the complexities normally associated with expressing analytical\n",
      "concepts in SQL or some other tool. This post gives some specific examples and\n",
      "shows how we're solving them in Ibis.\n",
      "<!-- PELICAN_END_SUMMARY -->\n",
      "\n",
      "<!-- \n",
      "* [TopK case study](#topkcasestudy)\n",
      "* [A better TopK](#bettertopk)\n",
      "* [Another example: bucketing](#bucketing)\n",
      "-->"
     ]
    },
    {
     "cell_type": "markdown",
     "metadata": {},
     "source": [
      "## <a href=\"topkcasestudy\"></a> Case Study: The TopK Operation\n",
      "\n",
      "We've all been there; you have some higher cardinality category and you wish to restrict your analysis to a fixed subset of values according to a ranking that you devise. If you're using pandas, you might do something like:\n",
      "\n",
      "```python\n",
      "K = 5\n",
      "\n",
      "avg_value = data.groupby('category').value.mean()\n",
      "top_categories = avg_value.order(ascending=False)[:K].index\n",
      "\n",
      "filtered_data = data[data.category.isin(top_categories)]\n",
      "```\n",
      "\n",
      "Let's look at a concrete example using both Ibis and SQL. I'm using the now-classic [airlines dataset](http://blog.ibis-project.org/pages/data.html) in Parquet format."
     ]
    },
    {
     "cell_type": "code",
     "collapsed": false,
     "input": [
      "import ibis\n",
      "\n",
      "ibis.options.interactive = True\n",
      "\n",
      "ic = ibis.impala_connect('bottou01.sjc.cloudera.com')\n",
      "hdfs = ibis.hdfs_connect('bottou01.sjc.cloudera.com')\n",
      "con = ibis.make_client(ic, hdfs_client=hdfs)\n",
      "\n",
      "airlines = con.parquet_file('/user/wesm/airlines-parquet', persist=True, \n",
      "                            name='airlines_parquet', database='wes')\n",
      "# airlines.compute_stats()"
     ],
     "language": "python",
     "metadata": {},
     "outputs": [],
     "prompt_number": 1
    },
    {
     "cell_type": "markdown",
     "metadata": {},
     "source": [
      "Let's look at the top 5 origin airports by total number of flights:"
     ]
    },
    {
     "cell_type": "code",
     "collapsed": false,
     "input": [
      "query = \"\"\"\n",
      "SELECT origin, count(*) as `nrows`\n",
      "FROM wes.airlines_parquet\n",
      "GROUP BY 1\n",
      "ORDER BY nrows DESC\n",
      "LIMIT 5\n",
      "\"\"\"\n",
      "expr = con.sql(query)\n",
      "expr"
     ],
     "language": "python",
     "metadata": {},
     "outputs": [
      {
       "metadata": {},
       "output_type": "pyout",
       "prompt_number": 2,
       "text": [
        "  origin    nrows\n",
        "0    ORD  6597442\n",
        "1    ATL  6100953\n",
        "2    DFW  5710980\n",
        "3    LAX  4089012\n",
        "4    PHX  3491077"
       ]
      }
     ],
     "prompt_number": 2
    },
    {
     "cell_type": "markdown",
     "metadata": {},
     "source": [
      "Constructed from SQL primitives, the TopK operation consists of 3 tasks\n",
      "\n",
      "* Aggregate\n",
      "* Sort\n",
      "* Limit\n",
      "\n",
      "Here is the Impala query plan for this (use `con.explain(expr)` with Ibis to see it)\n",
      "\n",
      "\n",
      "```\n",
      "05:MERGING-EXCHANGE [UNPARTITIONED]\n",
      "|  order by: count(*) DESC\n",
      "|  limit: 5\n",
      "|\n",
      "02:TOP-N [LIMIT=5]\n",
      "|  order by: count(*) DESC\n",
      "|\n",
      "04:AGGREGATE [FINALIZE]\n",
      "|  output: count:merge(*)\n",
      "|  group by: origin\n",
      "|\n",
      "03:EXCHANGE [HASH(origin)]\n",
      "|\n",
      "01:AGGREGATE\n",
      "|  output: count(*)\n",
      "|  group by: origin\n",
      "|\n",
      "00:SCAN HDFS [wes.airlines_parquet]\n",
      "   partitions=1/1 files=8 size=1.34GB\n",
      "```\n",
      "\n",
      "As you can see, Impala, like most SQL engines, has the built-in notion of `TOP-N` in its query engine, but yet this is not expressible directly in SQL. Things get more complicated when you want to filter down to the categories in the result:\n",
      "\n",
      "```\n",
      "SELECT dest, avg(arrdelay) as `nrows`\n",
      "FROM wes.airlines_parquet\n",
      "WHERE origin in (\n",
      "  SELECT origin \n",
      "  FROM (\n",
      "    SELECT origin, count(*) as `nrows`\n",
      "    FROM wes.airlines_parquet\n",
      "    GROUP BY 1\n",
      "    ORDER BY nrows DESC\n",
      "    LIMIT 5  \n",
      "  ) t0\n",
      ")\n",
      "GROUP BY 1\n",
      "```\n",
      "\n",
      "If you look at the query plan for this, it's more complicated but functionally contains the same TopK pattern plus a filter (using a `LEFT SEMI JOIN`, a type of efficient *filter join*)."
     ]
    },
    {
     "cell_type": "markdown",
     "metadata": {},
     "source": [
      "## <a href=\"bettertopk\"></a> A better TopK workflow with Ibis\n",
      "\n",
      "Ibis is happy to let you build your own TopK expression using primitive operations:"
     ]
    },
    {
     "cell_type": "code",
     "collapsed": false,
     "input": [
      "top_origins = (airlines\n",
      "               .group_by('origin')\n",
      "               .aggregate(airlines.count().name('nrows'))\n",
      "               .sort_by(ibis.desc('nrows'))\n",
      "               .limit(5))\n",
      "top_origins.execute()"
     ],
     "language": "python",
     "metadata": {},
     "outputs": [
      {
       "html": [
        "<div style=\"max-width:1500px;overflow:auto;\">\n",
        "<table border=\"1\" class=\"dataframe\">\n",
        "  <thead>\n",
        "    <tr style=\"text-align: right;\">\n",
        "      <th></th>\n",
        "      <th>origin</th>\n",
        "      <th>nrows</th>\n",
        "    </tr>\n",
        "  </thead>\n",
        "  <tbody>\n",
        "    <tr>\n",
        "      <th>0</th>\n",
        "      <td>ORD</td>\n",
        "      <td>6597442</td>\n",
        "    </tr>\n",
        "    <tr>\n",
        "      <th>1</th>\n",
        "      <td>ATL</td>\n",
        "      <td>6100953</td>\n",
        "    </tr>\n",
        "    <tr>\n",
        "      <th>2</th>\n",
        "      <td>DFW</td>\n",
        "      <td>5710980</td>\n",
        "    </tr>\n",
        "    <tr>\n",
        "      <th>3</th>\n",
        "      <td>LAX</td>\n",
        "      <td>4089012</td>\n",
        "    </tr>\n",
        "    <tr>\n",
        "      <th>4</th>\n",
        "      <td>PHX</td>\n",
        "      <td>3491077</td>\n",
        "    </tr>\n",
        "  </tbody>\n",
        "</table>\n",
        "</div>"
       ],
       "metadata": {},
       "output_type": "pyout",
       "prompt_number": 3,
       "text": [
        "  origin    nrows\n",
        "0    ORD  6597442\n",
        "1    ATL  6100953\n",
        "2    DFW  5710980\n",
        "3    LAX  4089012\n",
        "4    PHX  3491077"
       ]
      }
     ],
     "prompt_number": 3
    },
    {
     "cell_type": "markdown",
     "metadata": {},
     "source": [
      "This same aggregated table can be used as a filter, too:"
     ]
    },
    {
     "cell_type": "code",
     "collapsed": false,
     "input": [
      "# Replace nulls with 0\n",
      "avg_delay = airlines.arrdelay.mean().fillna(0).name('avg_delay')\n",
      "\n",
      "subset_airlines = airlines[airlines.origin.isin(top_origins.origin)]\n",
      "                    \n",
      "avg_delay_subset = (subset_airlines\n",
      "                    .group_by('dest')\n",
      "                    .aggregate(avg_delay)\n",
      "                    .sort_by(ibis.desc('avg_delay'))\n",
      "                    .limit(10))\n",
      "avg_delay_subset.execute()"
     ],
     "language": "python",
     "metadata": {},
     "outputs": [
      {
       "html": [
        "<div style=\"max-width:1500px;overflow:auto;\">\n",
        "<table border=\"1\" class=\"dataframe\">\n",
        "  <thead>\n",
        "    <tr style=\"text-align: right;\">\n",
        "      <th></th>\n",
        "      <th>dest</th>\n",
        "      <th>avg_delay</th>\n",
        "    </tr>\n",
        "  </thead>\n",
        "  <tbody>\n",
        "    <tr>\n",
        "      <th>0</th>\n",
        "      <td>RDM</td>\n",
        "      <td>29.558824</td>\n",
        "    </tr>\n",
        "    <tr>\n",
        "      <th>1</th>\n",
        "      <td>SOP</td>\n",
        "      <td>25.598706</td>\n",
        "    </tr>\n",
        "    <tr>\n",
        "      <th>2</th>\n",
        "      <td>MQT</td>\n",
        "      <td>25.367129</td>\n",
        "    </tr>\n",
        "    <tr>\n",
        "      <th>3</th>\n",
        "      <td>HHH</td>\n",
        "      <td>23.744963</td>\n",
        "    </tr>\n",
        "    <tr>\n",
        "      <th>4</th>\n",
        "      <td>ACY</td>\n",
        "      <td>20.344538</td>\n",
        "    </tr>\n",
        "    <tr>\n",
        "      <th>5</th>\n",
        "      <td>PSE</td>\n",
        "      <td>19.000000</td>\n",
        "    </tr>\n",
        "    <tr>\n",
        "      <th>6</th>\n",
        "      <td>CPR</td>\n",
        "      <td>18.383459</td>\n",
        "    </tr>\n",
        "    <tr>\n",
        "      <th>7</th>\n",
        "      <td>CWA</td>\n",
        "      <td>18.002533</td>\n",
        "    </tr>\n",
        "    <tr>\n",
        "      <th>8</th>\n",
        "      <td>SCE</td>\n",
        "      <td>16.741325</td>\n",
        "    </tr>\n",
        "    <tr>\n",
        "      <th>9</th>\n",
        "      <td>ATW</td>\n",
        "      <td>16.138655</td>\n",
        "    </tr>\n",
        "  </tbody>\n",
        "</table>\n",
        "</div>"
       ],
       "metadata": {},
       "output_type": "pyout",
       "prompt_number": 4,
       "text": [
        "  dest  avg_delay\n",
        "0  RDM  29.558824\n",
        "1  SOP  25.598706\n",
        "2  MQT  25.367129\n",
        "3  HHH  23.744963\n",
        "4  ACY  20.344538\n",
        "5  PSE  19.000000\n",
        "6  CPR  18.383459\n",
        "7  CWA  18.002533\n",
        "8  SCE  16.741325\n",
        "9  ATW  16.138655"
       ]
      }
     ],
     "prompt_number": 4
    },
    {
     "cell_type": "markdown",
     "metadata": {},
     "source": [
      "This is quite a bit of data gymnastics, though, and you haven't really modeled the fundamental Top-N task with the API. Because we have the power to create higher-level abstractions and expand them later into concrete operations (backend-dependent), we can craft a `topk` operation:"
     ]
    },
    {
     "cell_type": "code",
     "collapsed": false,
     "input": [
      "top_origins = airlines.origin.topk(5)"
     ],
     "language": "python",
     "metadata": {},
     "outputs": [],
     "prompt_number": 5
    },
    {
     "cell_type": "markdown",
     "metadata": {},
     "source": [
      "The result of `topk` in Ibis is what's known as an *analytic expression*. Its behavior depends on the context in which it's used. It is executable as is, yielding the top 5 origins by count:"
     ]
    },
    {
     "cell_type": "code",
     "collapsed": false,
     "input": [
      "top_origins.execute()"
     ],
     "language": "python",
     "metadata": {},
     "outputs": [
      {
       "html": [
        "<div style=\"max-width:1500px;overflow:auto;\">\n",
        "<table border=\"1\" class=\"dataframe\">\n",
        "  <thead>\n",
        "    <tr style=\"text-align: right;\">\n",
        "      <th></th>\n",
        "      <th>origin</th>\n",
        "      <th>count</th>\n",
        "    </tr>\n",
        "  </thead>\n",
        "  <tbody>\n",
        "    <tr>\n",
        "      <th>0</th>\n",
        "      <td>ORD</td>\n",
        "      <td>6597442</td>\n",
        "    </tr>\n",
        "    <tr>\n",
        "      <th>1</th>\n",
        "      <td>ATL</td>\n",
        "      <td>6100953</td>\n",
        "    </tr>\n",
        "    <tr>\n",
        "      <th>2</th>\n",
        "      <td>DFW</td>\n",
        "      <td>5710980</td>\n",
        "    </tr>\n",
        "    <tr>\n",
        "      <th>3</th>\n",
        "      <td>LAX</td>\n",
        "      <td>4089012</td>\n",
        "    </tr>\n",
        "    <tr>\n",
        "      <th>4</th>\n",
        "      <td>PHX</td>\n",
        "      <td>3491077</td>\n",
        "    </tr>\n",
        "  </tbody>\n",
        "</table>\n",
        "</div>"
       ],
       "metadata": {},
       "output_type": "pyout",
       "prompt_number": 6,
       "text": [
        "  origin    count\n",
        "0    ORD  6597442\n",
        "1    ATL  6100953\n",
        "2    DFW  5710980\n",
        "3    LAX  4089012\n",
        "4    PHX  3491077"
       ]
      }
     ],
     "prompt_number": 6
    },
    {
     "cell_type": "markdown",
     "metadata": {},
     "source": [
      "But you can also use it directly as a table filter:"
     ]
    },
    {
     "cell_type": "code",
     "collapsed": false,
     "input": [
      "expr = (airlines[top_origins]\n",
      "        .group_by('dest')\n",
      "        .aggregate(avg_delay)\n",
      "        .sort_by(ibis.desc('avg_delay'))\n",
      "        .limit(10))\n",
      "expr.execute()"
     ],
     "language": "python",
     "metadata": {},
     "outputs": [
      {
       "html": [
        "<div style=\"max-width:1500px;overflow:auto;\">\n",
        "<table border=\"1\" class=\"dataframe\">\n",
        "  <thead>\n",
        "    <tr style=\"text-align: right;\">\n",
        "      <th></th>\n",
        "      <th>dest</th>\n",
        "      <th>avg_delay</th>\n",
        "    </tr>\n",
        "  </thead>\n",
        "  <tbody>\n",
        "    <tr>\n",
        "      <th>0</th>\n",
        "      <td>RDM</td>\n",
        "      <td>29.558824</td>\n",
        "    </tr>\n",
        "    <tr>\n",
        "      <th>1</th>\n",
        "      <td>SOP</td>\n",
        "      <td>25.598706</td>\n",
        "    </tr>\n",
        "    <tr>\n",
        "      <th>2</th>\n",
        "      <td>MQT</td>\n",
        "      <td>25.367129</td>\n",
        "    </tr>\n",
        "    <tr>\n",
        "      <th>3</th>\n",
        "      <td>HHH</td>\n",
        "      <td>23.744963</td>\n",
        "    </tr>\n",
        "    <tr>\n",
        "      <th>4</th>\n",
        "      <td>ACY</td>\n",
        "      <td>20.344538</td>\n",
        "    </tr>\n",
        "    <tr>\n",
        "      <th>5</th>\n",
        "      <td>PSE</td>\n",
        "      <td>19.000000</td>\n",
        "    </tr>\n",
        "    <tr>\n",
        "      <th>6</th>\n",
        "      <td>CPR</td>\n",
        "      <td>18.383459</td>\n",
        "    </tr>\n",
        "    <tr>\n",
        "      <th>7</th>\n",
        "      <td>CWA</td>\n",
        "      <td>18.002533</td>\n",
        "    </tr>\n",
        "    <tr>\n",
        "      <th>8</th>\n",
        "      <td>SCE</td>\n",
        "      <td>16.741325</td>\n",
        "    </tr>\n",
        "    <tr>\n",
        "      <th>9</th>\n",
        "      <td>ATW</td>\n",
        "      <td>16.138655</td>\n",
        "    </tr>\n",
        "  </tbody>\n",
        "</table>\n",
        "</div>"
       ],
       "metadata": {},
       "output_type": "pyout",
       "prompt_number": 7,
       "text": [
        "  dest  avg_delay\n",
        "0  RDM  29.558824\n",
        "1  SOP  25.598706\n",
        "2  MQT  25.367129\n",
        "3  HHH  23.744963\n",
        "4  ACY  20.344538\n",
        "5  PSE  19.000000\n",
        "6  CPR  18.383459\n",
        "7  CWA  18.002533\n",
        "8  SCE  16.741325\n",
        "9  ATW  16.138655"
       ]
      }
     ],
     "prompt_number": 7
    },
    {
     "cell_type": "markdown",
     "metadata": {},
     "source": [
      "What's going on here is that the `top_origins` expression is a sort of *logical data type* that hasn't yet been adapted to any physical data operations. There's a number of ways it can be used, and that adaptation process happens automatically:"
     ]
    },
    {
     "cell_type": "code",
     "collapsed": false,
     "input": [
      "type(top_origins)"
     ],
     "language": "python",
     "metadata": {},
     "outputs": [
      {
       "metadata": {},
       "output_type": "pyout",
       "prompt_number": 8,
       "text": [
        "ibis.expr.operations.TopKExpr"
       ]
      }
     ],
     "prompt_number": 8
    },
    {
     "cell_type": "markdown",
     "metadata": {},
     "source": [
      "You might notice that I've sneakily done two TopK operations in a row, the first ranking by count and the second by average arrival delay. `topk` luckily gives you a way to provide a ranking metric other than count:"
     ]
    },
    {
     "cell_type": "code",
     "collapsed": false,
     "input": [
      "airlines.origin.topk(5, by=avg_delay).execute()"
     ],
     "language": "python",
     "metadata": {},
     "outputs": [
      {
       "html": [
        "<div style=\"max-width:1500px;overflow:auto;\">\n",
        "<table border=\"1\" class=\"dataframe\">\n",
        "  <thead>\n",
        "    <tr style=\"text-align: right;\">\n",
        "      <th></th>\n",
        "      <th>origin</th>\n",
        "      <th>avg_delay</th>\n",
        "    </tr>\n",
        "  </thead>\n",
        "  <tbody>\n",
        "    <tr>\n",
        "      <th>0</th>\n",
        "      <td>FMN</td>\n",
        "      <td>164.0</td>\n",
        "    </tr>\n",
        "    <tr>\n",
        "      <th>1</th>\n",
        "      <td>OGD</td>\n",
        "      <td>148.4</td>\n",
        "    </tr>\n",
        "    <tr>\n",
        "      <th>2</th>\n",
        "      <td>CYS</td>\n",
        "      <td>122.0</td>\n",
        "    </tr>\n",
        "    <tr>\n",
        "      <th>3</th>\n",
        "      <td>BFF</td>\n",
        "      <td>93.0</td>\n",
        "    </tr>\n",
        "    <tr>\n",
        "      <th>4</th>\n",
        "      <td>PIR</td>\n",
        "      <td>33.5</td>\n",
        "    </tr>\n",
        "  </tbody>\n",
        "</table>\n",
        "</div>"
       ],
       "metadata": {},
       "output_type": "pyout",
       "prompt_number": 9,
       "text": [
        "  origin  avg_delay\n",
        "0    FMN      164.0\n",
        "1    OGD      148.4\n",
        "2    CYS      122.0\n",
        "3    BFF       93.0\n",
        "4    PIR       33.5"
       ]
      }
     ],
     "prompt_number": 9
    },
    {
     "cell_type": "markdown",
     "metadata": {},
     "source": [
      "We can combine all this together to do a double-TopN:"
     ]
    },
    {
     "cell_type": "code",
     "collapsed": false,
     "input": [
      "def avg_delay(x):\n",
      "    return x.arrdelay.mean().fillna(0).name('avg_delay')\n",
      "    \n",
      "expr = airlines[top_origins].dest.topk(10, by=avg_delay)\n",
      "expr.execute()"
     ],
     "language": "python",
     "metadata": {},
     "outputs": [
      {
       "html": [
        "<div style=\"max-width:1500px;overflow:auto;\">\n",
        "<table border=\"1\" class=\"dataframe\">\n",
        "  <thead>\n",
        "    <tr style=\"text-align: right;\">\n",
        "      <th></th>\n",
        "      <th>dest</th>\n",
        "      <th>avg_delay</th>\n",
        "    </tr>\n",
        "  </thead>\n",
        "  <tbody>\n",
        "    <tr>\n",
        "      <th>0</th>\n",
        "      <td>RDM</td>\n",
        "      <td>29.558824</td>\n",
        "    </tr>\n",
        "    <tr>\n",
        "      <th>1</th>\n",
        "      <td>SOP</td>\n",
        "      <td>25.598706</td>\n",
        "    </tr>\n",
        "    <tr>\n",
        "      <th>2</th>\n",
        "      <td>MQT</td>\n",
        "      <td>25.367129</td>\n",
        "    </tr>\n",
        "    <tr>\n",
        "      <th>3</th>\n",
        "      <td>HHH</td>\n",
        "      <td>23.744963</td>\n",
        "    </tr>\n",
        "    <tr>\n",
        "      <th>4</th>\n",
        "      <td>ACY</td>\n",
        "      <td>20.344538</td>\n",
        "    </tr>\n",
        "    <tr>\n",
        "      <th>5</th>\n",
        "      <td>PSE</td>\n",
        "      <td>19.000000</td>\n",
        "    </tr>\n",
        "    <tr>\n",
        "      <th>6</th>\n",
        "      <td>CPR</td>\n",
        "      <td>18.383459</td>\n",
        "    </tr>\n",
        "    <tr>\n",
        "      <th>7</th>\n",
        "      <td>CWA</td>\n",
        "      <td>18.002533</td>\n",
        "    </tr>\n",
        "    <tr>\n",
        "      <th>8</th>\n",
        "      <td>SCE</td>\n",
        "      <td>16.741325</td>\n",
        "    </tr>\n",
        "    <tr>\n",
        "      <th>9</th>\n",
        "      <td>ATW</td>\n",
        "      <td>16.138655</td>\n",
        "    </tr>\n",
        "  </tbody>\n",
        "</table>\n",
        "</div>"
       ],
       "metadata": {},
       "output_type": "pyout",
       "prompt_number": 10,
       "text": [
        "  dest  avg_delay\n",
        "0  RDM  29.558824\n",
        "1  SOP  25.598706\n",
        "2  MQT  25.367129\n",
        "3  HHH  23.744963\n",
        "4  ACY  20.344538\n",
        "5  PSE  19.000000\n",
        "6  CPR  18.383459\n",
        "7  CWA  18.002533\n",
        "8  SCE  16.741325\n",
        "9  ATW  16.138655"
       ]
      }
     ],
     "prompt_number": 10
    },
    {
     "cell_type": "markdown",
     "metadata": {},
     "source": [
      "## Another example: bucketing\n",
      "<a href=\"bucketing\"></a> \n",
      "\n",
      "Why stop there? After seeing lots of use cases in the wild where code reuse and composability would make analysts a great deal more productive, we'll be working to build more and more high level analytics tools into Ibis.\n",
      "\n",
      "As another example which I present as mostly code-only, consider the task of creating a discrete binning of arrival delays and computing a number of metrics. I'll let the code speak for itself:"
     ]
    },
    {
     "cell_type": "code",
     "collapsed": false,
     "input": [
      "airlines.arrdelay.summary()"
     ],
     "language": "python",
     "metadata": {},
     "outputs": [
      {
       "metadata": {},
       "output_type": "pyout",
       "prompt_number": 11,
       "text": [
        "       count    nulls   min   max        sum      mean  approx_nunique\n",
        "0  120947440  2587529 -1437  2598  852674931  7.049963            3801"
       ]
      }
     ],
     "prompt_number": 11
    },
    {
     "cell_type": "code",
     "collapsed": false,
     "input": [
      "delay_buckets = [1, 30, 60, 120]\n",
      "\n",
      "bin = (airlines.arrdelay\n",
      "       .fillna(0)\n",
      "       .bucket(delay_buckets, \n",
      "               include_over=True,\n",
      "               include_under=True).name('delay_bin'))\n",
      "\n",
      "delay_summary = airlines.group_by(bin).arrdelay.summary()\n",
      "delay_summary"
     ],
     "language": "python",
     "metadata": {},
     "outputs": [
      {
       "metadata": {},
       "output_type": "pyout",
       "prompt_number": 12,
       "text": [
        "   delay_bin     count    nulls   min   max        sum        mean  \\\n",
        "0          3   4039142        0    60   120  333493735   82.565489   \n",
        "1          4   1594279        0   121  2598  290961107  182.503255   \n",
        "2          1  44759224        0     1    29  451748992   10.092869   \n",
        "3          0  63108269  2587529 -1437     0 -531724696   -8.425595   \n",
        "4          2   7446526        0    30    59  308195793   41.387862   \n",
        "\n",
        "   approx_nunique  \n",
        "0              62  \n",
        "1            2490  \n",
        "2              29  \n",
        "3             471  \n",
        "4              30  "
       ]
      }
     ],
     "prompt_number": 12
    },
    {
     "cell_type": "code",
     "collapsed": false,
     "input": [
      "bin_name = (delay_summary.delay_bin\n",
      "            .label(['On time', 'Less then 30 min',\n",
      "                    '30 min to 1 hour', \n",
      "                    '1 to 2 hours',\n",
      "                    'More than 2 hours']))\n",
      "expr = delay_summary.mutate(bin_name=bin_name)\n",
      "expr.sort_by('delay_bin')"
     ],
     "language": "python",
     "metadata": {},
     "outputs": [
      {
       "metadata": {},
       "output_type": "pyout",
       "prompt_number": 13,
       "text": [
        "   delay_bin     count    nulls   min   max        sum        mean  \\\n",
        "0          0  63108269  2587529 -1437     0 -531724696   -8.425595   \n",
        "1          1  44759224        0     1    29  451748992   10.092869   \n",
        "2          2   7446526        0    30    59  308195793   41.387862   \n",
        "3          3   4039142        0    60   120  333493735   82.565489   \n",
        "4          4   1594279        0   121  2598  290961107  182.503255   \n",
        "\n",
        "   approx_nunique           bin_name  \n",
        "0             471            On time  \n",
        "1              29   Less then 30 min  \n",
        "2              30   30 min to 1 hour  \n",
        "3              62       1 to 2 hours  \n",
        "4            2490  More than 2 hours  "
       ]
      }
     ],
     "prompt_number": 13
    },
    {
     "cell_type": "markdown",
     "metadata": {},
     "source": [
      "In future posts I'll go into some more detail on category types in Ibis (like the result of `bucket`) and some of the other tools used here."
     ]
    }
   ],
   "metadata": {}
  }
 ]
}