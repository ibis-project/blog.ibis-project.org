{
 "metadata": {
  "name": ""
 },
 "nbformat": 3,
 "nbformat_minor": 0,
 "worksheets": [
  {
   "cells": [
    {
     "cell_type": "markdown",
     "metadata": {},
     "source": [
      "<!-- PELICAN_BEGIN_SUMMARY -->\n",
      "\n",
      "*Window* (also known as *analytic*) functions are a valuable technique in analytic SQL, but unfortunately they are generally considered to be an *advanced* skill among SQL programmers. Conceptually, they are relatively simple, and indeed many everyday pandas and R operations can be expressed in SQL through their use. Mechanically, they can be difficult to use, largely because of the SQL syntax.\n",
      "\n",
      "Ibis has had comprehensive support for window functions from 0.3 onward, and I invested quite a bit of effort to design an API to make them available to users in a much simpler way. I also made sure that you don't have to be a SQL expert to use them. \n",
      "<!-- PELICAN_END_SUMMARY -->\n",
      "\n",
      "# What are SQL window functions?\n",
      "\n",
      "Standard SQL functions do not have \"data visibility\" outside the context of the current row. This makes group-wise data analysis more difficult. In pandas, you can write code that looks like:\n",
      "\n",
      "```\n",
      "demeaned_col = df.col_name - df.col_name.mean()\n",
      "\n",
      "first_order_diff = df.col_name - df.col_name.shift(1)\n",
      "```\n",
      "\n",
      "But you can't write this SQL\n",
      "\n",
      "```\n",
      "SELECT col_name - AVG(col_name) AS demeaned_col\n",
      "FROM df\n",
      "```\n",
      "\n",
      "This is where window functions come in. They give you a way to group and order an entire data set and compute either an *aggregation* or some other *manipulation* of ordered groups. Depending on your SQL engine, you probably have functions like:\n",
      "\n",
      "* Aggregations: standard aggregates like `AVG` and `SUM` can be used in window function contexts\n",
      "* Shifts: `LAG` and `LEAD`\n",
      "* Quantiling: `NTILE`, and others\n",
      "\n",
      "These collectively are called **analytic functions**.\n",
      "\n",
      "Mechanically, a SQL window function involves adorning the `OVER` keyword along with 3 components:\n",
      "\n",
      "* Group clause: `PARTITION BY`\n",
      "* Sort clause: `ORDER BY`\n",
      "* Window frame: it's complicated\n",
      "\n",
      "Without going into great detail about all the ins and outs of SQL `OVER` clauses, here's an example of 1 year deviation from the full sample average of a value on some monthly data. In pandas, this would be:\n",
      "\n",
      "```\n",
      "def apply_func(g):\n",
      "    g = g.sort('date')\n",
      "    metric = pd.rolling_mean(g.value - df.value.mean(), 12)\n",
      "    return pd.DataFrame({'metric': metric, 'state': g.state})\n",
      "\n",
      "result = df.groupby('state').apply(apply_func)\n",
      "```\n",
      "\n",
      "In SQL, here it is:\n",
      "\n",
      "```\n",
      "SELECT AVG(value - AVG(value) OVER ()) \n",
      "       OVER(PARTITION BY state\n",
      "            ORDER BY date\n",
      "            RANGE BETWEEN 11 PRECEDING AND CURRENT ROW)\n",
      "       AS metric\n",
      "FROM df\n",
      "```\n",
      "\n",
      "I feel like we can do better than this.\n",
      "\n",
      "# More pain-free group-wise analytics in Ibis\n",
      "\n",
      "In many cases, window functions are only an implementation detail. In Ibis, I've tried to make using them as pain-free as possible, and invisible in a lot of cases. There's still [plenty more to do](https://github.com/cloudera/ibis/issues?utf8=%E2%9C%93&q=is%3Aissue+is%3Aopen+window) and more usability improvements and higher level tools (getting around SQL limitations) will appear in upcoming releases.\n",
      "\n",
      "Let's look at the [airlines data](http://blog.ibis-project.org/pages/data.html) again."
     ]
    },
    {
     "cell_type": "code",
     "collapsed": false,
     "input": [
      "import ibis\n",
      "ibis.options.interactive = True\n",
      "\n",
      "con = ibis.make_client(ibis.impala.connect('bottou01.sjc.cloudera.com'))\n",
      "\n",
      "db = con.database('wes')\n",
      "table = db.airlines_parquet"
     ],
     "language": "python",
     "metadata": {},
     "outputs": [],
     "prompt_number": 1
    },
    {
     "cell_type": "markdown",
     "metadata": {},
     "source": [
      "Suppose you wanted to demean the `arrdelay` column in this dataset. Here you can write:"
     ]
    },
    {
     "cell_type": "code",
     "collapsed": false,
     "input": [
      "expr = table.arrdelay - table.arrdelay.mean()\n",
      "expr.execute()[:10]"
     ],
     "language": "python",
     "metadata": {},
     "outputs": [
      {
       "metadata": {},
       "output_type": "pyout",
       "prompt_number": 2,
       "text": [
        "0   -14.049963\n",
        "1   -11.049963\n",
        "2    -0.049963\n",
        "3   -13.049963\n",
        "4    -5.049963\n",
        "5   -12.049963\n",
        "6    -0.049963\n",
        "7   -13.049963\n",
        "8   -19.049963\n",
        "9   -10.049963\n",
        "Name: tmp, dtype: float64"
       ]
      }
     ],
     "prompt_number": 2
    },
    {
     "cell_type": "markdown",
     "metadata": {},
     "source": [
      "Let's take a closer look:"
     ]
    },
    {
     "cell_type": "code",
     "collapsed": false,
     "input": [
      "t = table\n",
      "expr = t[t.arrdelay, t.arrdelay.mean(), \n",
      "         (t.arrdelay - t.arrdelay.mean()).name('demeaned')]\n",
      "expr.limit(10)"
     ],
     "language": "python",
     "metadata": {},
     "outputs": [
      {
       "metadata": {},
       "output_type": "pyout",
       "prompt_number": 3,
       "text": [
        "   arrdelay      mean   demeaned\n",
        "0        -7  7.049963 -14.049963\n",
        "1        -4  7.049963 -11.049963\n",
        "2         7  7.049963  -0.049963\n",
        "3        -6  7.049963 -13.049963\n",
        "4         2  7.049963  -5.049963\n",
        "5        -5  7.049963 -12.049963\n",
        "6         7  7.049963  -0.049963\n",
        "7        -6  7.049963 -13.049963\n",
        "8       -12  7.049963 -19.049963\n",
        "9        -3  7.049963 -10.049963"
       ]
      }
     ],
     "prompt_number": 3
    },
    {
     "cell_type": "markdown",
     "metadata": {},
     "source": [
      "How about if you wanted to demean by `dest`. Now you can write:"
     ]
    },
    {
     "cell_type": "code",
     "collapsed": false,
     "input": [
      "t = table['arrdelay', 'dest']\n",
      "expr = (t.group_by('dest')\n",
      "        .mutate(dest_avg=t.arrdelay.mean(),\n",
      "                dev=t.arrdelay - t.arrdelay.mean()))\n",
      "\n",
      "worst = expr[expr.dev.notnull()].sort_by(ibis.desc('dev')).limit(10)\n",
      "worst"
     ],
     "language": "python",
     "metadata": {},
     "outputs": [
      {
       "metadata": {},
       "output_type": "pyout",
       "prompt_number": 4,
       "text": [
        "   arrdelay dest  dest_avg          dev\n",
        "0      2598  DTW  4.998577  2593.001423\n",
        "1      2461  MSP  4.476601  2456.523399\n",
        "2      2453  MSP  4.476601  2448.523399\n",
        "3      2137  MSP  4.476601  2132.523399\n",
        "4      1951  DTW  4.998577  1946.001423\n",
        "5      1946  DTW  4.998577  1941.001423\n",
        "6      1942  MSP  4.476601  1937.523399\n",
        "7      1925  SEA  8.158243  1916.841757\n",
        "8      1879  SEA  8.158243  1870.841757\n",
        "9      1864  MSP  4.476601  1859.523399"
       ]
      }
     ],
     "prompt_number": 4
    },
    {
     "cell_type": "markdown",
     "metadata": {},
     "source": [
      "For the SQL junkies in the room, here was the actual query that Ibis executed\n",
      "\n",
      "```\n",
      "SELECT *\n",
      "FROM (\n",
      "  SELECT `arrdelay`, `dest`,\n",
      "         avg(`arrdelay`) OVER (PARTITION BY `dest`) AS `dest_avg`,\n",
      "         `arrdelay` - avg(`arrdelay`) OVER (PARTITION BY `dest`) AS `dev`\n",
      "  FROM wes.`airlines_parquet`\n",
      ") t0\n",
      "WHERE `dev` IS NOT NULL\n",
      "ORDER BY `dev` DESC\n",
      "LIMIT 10\n",
      "```\n",
      "\n",
      "\n",
      "\n"
     ]
    },
    {
     "cell_type": "markdown",
     "metadata": {},
     "source": [
      "Note that you can explicitly construct a window to use with analytic functions and use the `over` expression method:"
     ]
    },
    {
     "cell_type": "code",
     "collapsed": false,
     "input": [
      "w = ibis.window(group_by=table.dest, order_by=table.year)\n",
      "\n",
      "yearly_avg_delay = (table.group_by(['dest', 'year'])\n",
      "                    .aggregate(table.arrdelay.mean().name('avg_delay')))\n",
      "\n",
      "delay = yearly_avg_delay.avg_delay\n",
      "yoy_chg = (delay - delay.lag().over(w))\n",
      "yearly_avg_delay = yearly_avg_delay.mutate(yoy_change=yoy_chg)\n",
      "\n",
      "yearly_avg_delay[(yearly_avg_delay.dest == 'ORD')\n",
      "                 & (yearly_avg_delay.year >= 2000)]"
     ],
     "language": "python",
     "metadata": {},
     "outputs": [
      {
       "metadata": {},
       "output_type": "pyout",
       "prompt_number": 5,
       "text": [
        "  dest  year  avg_delay  yoy_change\n",
        "0  ORD  2000  16.630993    4.742508\n",
        "1  ORD  2001   7.849993   -8.781000\n",
        "2  ORD  2002   3.597082   -4.252911\n",
        "3  ORD  2003   7.268648    3.671566\n",
        "4  ORD  2004  12.812650    5.544002\n",
        "5  ORD  2005   8.563716   -4.248934\n",
        "6  ORD  2006  15.744943    7.181227\n",
        "7  ORD  2007  16.804941    1.059998\n",
        "8  ORD  2008  15.224999   -1.579942"
       ]
      }
     ],
     "prompt_number": 5
    },
    {
     "cell_type": "markdown",
     "metadata": {},
     "source": [
      "# Moving window functions and ordering\n",
      "\n",
      "Aggregations (like `sum`, `mean`, etc.) used in a window function context by default operate on the full window data sample. This is configurable, though, and you can choose which values to include in the aggregated sample based on a set ordering. Let's take the annual delays from above for a couple airports:"
     ]
    },
    {
     "cell_type": "code",
     "collapsed": false,
     "input": [
      "annual_delay = (table[table.dest.isin(['JFK', 'SFO'])]                \n",
      "                .group_by(['dest', 'year'])\n",
      "                .aggregate(table.arrdelay.mean().name('avg_delay')))\n",
      "annual_delay.limit(20)"
     ],
     "language": "python",
     "metadata": {},
     "outputs": [
      {
       "metadata": {},
       "output_type": "pyout",
       "prompt_number": 6,
       "text": [
        "   dest  year  avg_delay\n",
        "0   JFK  1993   6.441211\n",
        "1   JFK  2002   2.723808\n",
        "2   JFK  1999   7.005718\n",
        "3   SFO  2003   3.977823\n",
        "4   SFO  1998  17.903815\n",
        "5   JFK  1994   9.017850\n",
        "6   SFO  1999  12.464576\n",
        "7   JFK  2001   8.875575\n",
        "8   SFO  1990   8.622028\n",
        "9   JFK  1998   5.931865\n",
        "10  JFK  2003   2.930521\n",
        "11  SFO  1995  10.024748\n",
        "12  SFO  2006  12.377844\n",
        "13  JFK  2007  18.385748\n",
        "14  JFK  1987   9.168451\n",
        "15  JFK  1989   9.387740\n",
        "16  JFK  2008  13.774854\n",
        "17  JFK  2000   9.554254\n",
        "18  JFK  2004   6.992708\n",
        "19  SFO  2001   8.233889"
       ]
      }
     ],
     "prompt_number": 6
    },
    {
     "cell_type": "markdown",
     "metadata": {},
     "source": [
      "If you wanted to add a full sample average-of-averages by each `dest`, you could write this code"
     ]
    },
    {
     "cell_type": "code",
     "collapsed": false,
     "input": [
      "enriched = (annual_delay\n",
      "            .group_by('dest')\n",
      "            .mutate(grand_avg=annual_delay.avg_delay.mean()))\n",
      "enriched.limit(10).execute()"
     ],
     "language": "python",
     "metadata": {},
     "outputs": [
      {
       "html": [
        "<div style=\"max-width:1500px;overflow:auto;\">\n",
        "<table border=\"1\" class=\"dataframe\">\n",
        "  <thead>\n",
        "    <tr style=\"text-align: right;\">\n",
        "      <th></th>\n",
        "      <th>dest</th>\n",
        "      <th>year</th>\n",
        "      <th>avg_delay</th>\n",
        "      <th>grand_avg</th>\n",
        "    </tr>\n",
        "  </thead>\n",
        "  <tbody>\n",
        "    <tr>\n",
        "      <th>0</th>\n",
        "      <td>SFO</td>\n",
        "      <td>1991</td>\n",
        "      <td>9.211260</td>\n",
        "      <td>10.58818</td>\n",
        "    </tr>\n",
        "    <tr>\n",
        "      <th>1</th>\n",
        "      <td>SFO</td>\n",
        "      <td>2004</td>\n",
        "      <td>6.034957</td>\n",
        "      <td>10.58818</td>\n",
        "    </tr>\n",
        "    <tr>\n",
        "      <th>2</th>\n",
        "      <td>SFO</td>\n",
        "      <td>1993</td>\n",
        "      <td>6.788378</td>\n",
        "      <td>10.58818</td>\n",
        "    </tr>\n",
        "    <tr>\n",
        "      <th>3</th>\n",
        "      <td>SFO</td>\n",
        "      <td>2002</td>\n",
        "      <td>4.721505</td>\n",
        "      <td>10.58818</td>\n",
        "    </tr>\n",
        "    <tr>\n",
        "      <th>4</th>\n",
        "      <td>SFO</td>\n",
        "      <td>1994</td>\n",
        "      <td>6.266924</td>\n",
        "      <td>10.58818</td>\n",
        "    </tr>\n",
        "    <tr>\n",
        "      <th>5</th>\n",
        "      <td>SFO</td>\n",
        "      <td>1992</td>\n",
        "      <td>4.347605</td>\n",
        "      <td>10.58818</td>\n",
        "    </tr>\n",
        "    <tr>\n",
        "      <th>6</th>\n",
        "      <td>SFO</td>\n",
        "      <td>2005</td>\n",
        "      <td>9.145214</td>\n",
        "      <td>10.58818</td>\n",
        "    </tr>\n",
        "    <tr>\n",
        "      <th>7</th>\n",
        "      <td>SFO</td>\n",
        "      <td>1988</td>\n",
        "      <td>8.897241</td>\n",
        "      <td>10.58818</td>\n",
        "    </tr>\n",
        "    <tr>\n",
        "      <th>8</th>\n",
        "      <td>SFO</td>\n",
        "      <td>2000</td>\n",
        "      <td>19.235428</td>\n",
        "      <td>10.58818</td>\n",
        "    </tr>\n",
        "    <tr>\n",
        "      <th>9</th>\n",
        "      <td>SFO</td>\n",
        "      <td>1997</td>\n",
        "      <td>9.026597</td>\n",
        "      <td>10.58818</td>\n",
        "    </tr>\n",
        "  </tbody>\n",
        "</table>\n",
        "</div>"
       ],
       "metadata": {},
       "output_type": "pyout",
       "prompt_number": 7,
       "text": [
        "  dest  year  avg_delay  grand_avg\n",
        "0  SFO  1991   9.211260   10.58818\n",
        "1  SFO  2004   6.034957   10.58818\n",
        "2  SFO  1993   6.788378   10.58818\n",
        "3  SFO  2002   4.721505   10.58818\n",
        "4  SFO  1994   6.266924   10.58818\n",
        "5  SFO  1992   4.347605   10.58818\n",
        "6  SFO  2005   9.145214   10.58818\n",
        "7  SFO  1988   8.897241   10.58818\n",
        "8  SFO  2000  19.235428   10.58818\n",
        "9  SFO  1997   9.026597   10.58818"
       ]
      }
     ],
     "prompt_number": 7
    },
    {
     "cell_type": "markdown",
     "metadata": {},
     "source": [
      "Suppose now you wanted to compare with trailing 10 year average instead. Ibis gives you two ways to do that, the generic `ibis.window` or convenience method `ibis.trailing_window`:"
     ]
    },
    {
     "cell_type": "code",
     "collapsed": false,
     "input": [
      "# 9 + current period = 10\n",
      "w = ibis.window(group_by=annual_delay.dest, \n",
      "                order_by=annual_delay.year,\n",
      "                preceding=9, following=0)\n",
      "w2 = ibis.trailing_window(9, group_by=annual_delay.dest,\n",
      "                          order_by=annual_delay.year)"
     ],
     "language": "python",
     "metadata": {},
     "outputs": [],
     "prompt_number": 8
    },
    {
     "cell_type": "markdown",
     "metadata": {},
     "source": [
      "Now, you can use the `over` method:"
     ]
    },
    {
     "cell_type": "code",
     "collapsed": false,
     "input": [
      "metric = annual_delay.avg_delay.mean().over(w2)\n",
      "enriched = annual_delay[annual_delay, metric]\n",
      "enriched.sort_by(ibis.desc('year')).limit(10)"
     ],
     "language": "python",
     "metadata": {},
     "outputs": [
      {
       "metadata": {},
       "output_type": "pyout",
       "prompt_number": 9,
       "text": [
        "  dest  year  avg_delay       mean\n",
        "0  SFO  2008  13.651567  10.233152\n",
        "1  JFK  2008  13.774854   9.566769\n",
        "2  JFK  2007  18.385748   8.782470\n",
        "3  SFO  2007  12.488720  10.658377\n",
        "4  SFO  2006  12.377844  10.312165\n",
        "5  JFK  2006  13.109659   7.560915\n",
        "6  JFK  2005  12.314841   7.784602\n",
        "7  SFO  2005   9.145214  10.572521\n",
        "8  SFO  2004   6.034957  10.660475\n",
        "9  JFK  2004   6.992708   7.443993"
       ]
      }
     ],
     "prompt_number": 9
    },
    {
     "cell_type": "markdown",
     "metadata": {},
     "source": [
      "I could also have achieved the same result by doing:"
     ]
    },
    {
     "cell_type": "code",
     "collapsed": false,
     "input": [
      "w3 = ibis.trailing_window(9)\n",
      "\n",
      "expr = (annual_delay\n",
      "        .group_by('dest')\n",
      "        .order_by('year')\n",
      "        .mutate(avg_10y=annual_delay.avg_delay.mean().over(w3))\n",
      "        .sort_by(ibis.desc('year'))\n",
      "        .limit(10))\n",
      "expr"
     ],
     "language": "python",
     "metadata": {},
     "outputs": [
      {
       "metadata": {},
       "output_type": "pyout",
       "prompt_number": 10,
       "text": [
        "  dest  year  avg_delay    avg_10y\n",
        "0  SFO  2008  13.651567  10.233152\n",
        "1  JFK  2008  13.774854   9.566769\n",
        "2  JFK  2007  18.385748   9.236323\n",
        "3  SFO  2007  12.488720  10.930485\n",
        "4  SFO  2006  12.377844  10.771828\n",
        "5  JFK  2006  13.109659   8.980813\n",
        "6  JFK  2005  12.314841   9.470483\n",
        "7  SFO  2005   9.145214  11.095642\n",
        "8  SFO  2004   6.034957  11.019149\n",
        "9  JFK  2004   6.992708   9.430359"
       ]
      }
     ],
     "prompt_number": 10
    },
    {
     "cell_type": "markdown",
     "metadata": {},
     "source": [
      "Some functions, like any of the `cum*` methods, like `cumsum`, automatically turn into the right window functions under the hood."
     ]
    },
    {
     "cell_type": "markdown",
     "metadata": {},
     "source": [
      "# All the window frames with Ibis\n",
      "\n",
      "I made a handy illustration (hat tip to [Hadley Wickham](https://twitter.com/hadleywickham) and his [post on dplyr](https://rpubs.com/hadley/window)) illustrating how to create each kind of window with Ibis:\n",
      "\n",
      "<center><img src=\"../images/window-frame.png\"></img></center>"
     ]
    },
    {
     "cell_type": "markdown",
     "metadata": {},
     "source": [
      "# Helping more: window composability\n",
      "\n",
      "You can think of a `Window` object as providing a description of how to group a data set. So why not make the windows *composable*? Let's consider a case where you have two different windows is an analysis:"
     ]
    },
    {
     "cell_type": "code",
     "collapsed": false,
     "input": [
      "w1 = ibis.window(group_by='dest', order_by=['year', 'month'])\n",
      "w2 = ibis.trailing_window(12)"
     ],
     "language": "python",
     "metadata": {},
     "outputs": [],
     "prompt_number": 12
    },
    {
     "cell_type": "markdown",
     "metadata": {},
     "source": [
      "To simplify making a window that's the union of all these parameters, we can simply do:"
     ]
    },
    {
     "cell_type": "code",
     "collapsed": false,
     "input": [
      "w = w1.combine(w2)"
     ],
     "language": "python",
     "metadata": {},
     "outputs": [],
     "prompt_number": 13
    },
    {
     "cell_type": "markdown",
     "metadata": {},
     "source": [
      "You can even construct the combined window yourself and check that they're the same:"
     ]
    },
    {
     "cell_type": "code",
     "collapsed": false,
     "input": [
      "w3 = ibis.window(group_by='dest', order_by=['year', 'month'],\n",
      "                 preceding=12, following=0)\n",
      "w.equals(w3)"
     ],
     "language": "python",
     "metadata": {},
     "outputs": [
      {
       "metadata": {},
       "output_type": "pyout",
       "prompt_number": 14,
       "text": [
        "True"
       ]
      }
     ],
     "prompt_number": 14
    },
    {
     "cell_type": "markdown",
     "metadata": {},
     "source": [
      "# Takeaway\n",
      "\n",
      "There's no reason for analytics in a SQL engine requiring window functions to be so tedious. If you're an avid user of the tools described in this post, I'd love to hear your feedback about how to make things even more productive."
     ]
    }
   ],
   "metadata": {}
  }
 ]
}