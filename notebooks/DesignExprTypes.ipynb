{
 "metadata": {
  "name": ""
 },
 "nbformat": 3,
 "nbformat_minor": 0,
 "worksheets": [
  {
   "cells": [
    {
     "cell_type": "markdown",
     "metadata": {},
     "source": [
      "<!-- PELICAN_BEGIN_SUMMARY -->\n",
      "\n",
      "This blog post describes Ibis's expression type system and how its DSL (domain-specific language) operations work. It's intended for curious users or developers of the project.\n",
      "\n",
      "I spent a lot of time thinking about how to create a deferred expression DSL that compiles to SQL and is fluid and intuitive to use. No small task.\n",
      "\n",
      "The key things I want to address are:\n",
      "\n",
      "* Ibis's internal operation types and external user-facing types\n",
      "* How the DSL semantics help you avoid making common mistakes\n",
      "* How type checking and evaluation works\n",
      "\n",
      "At the end, since several people have asked me about it, I show some contrasts in Ibis's API design with [Blaze](http://blaze.pydata.org/), another Python project, that has its own embedded DSL.  \n",
      "\n",
      "<!-- PELICAN_END_SUMMARY -->\n",
      "\n",
      "## Ibis expression basics\n",
      "\n",
      "In general, all objects in Ibis semantically referencing real data fall into 3 categories:\n",
      "\n",
      "* Tables: Database tables, data in formats like Parquet and Avro, or derived table expressions\n",
      "* Arrays: Columns in tables or derived expressions thereof\n",
      "* Scalars: Literal values and results of aggregations or analytic functions\n",
      "\n",
      "I'll give you a bunch of basic examples of these and then give more technical detail on the type system.\n",
      "\n",
      "Let's just take the number 5:"
     ]
    },
    {
     "cell_type": "code",
     "collapsed": false,
     "input": [
      "import ibis\n",
      "\n",
      "value = 5"
     ],
     "language": "python",
     "metadata": {},
     "outputs": [],
     "prompt_number": 1
    },
    {
     "cell_type": "markdown",
     "metadata": {},
     "source": [
      "Suppose you wanted to create an expression that uses this value. Ibis has the function `literal` that converts a Python scalar value to a well-typed expression. Most of the time this happens automatically, but let's do it explicitly:"
     ]
    },
    {
     "cell_type": "code",
     "collapsed": false,
     "input": [
      "int_expr = ibis.literal(5)\n",
      "int_expr"
     ],
     "language": "python",
     "metadata": {},
     "outputs": [
      {
       "metadata": {},
       "output_type": "pyout",
       "prompt_number": 2,
       "text": [
        "Literal[int8]\n",
        "  5"
       ]
      }
     ],
     "prompt_number": 2
    },
    {
     "cell_type": "markdown",
     "metadata": {},
     "source": [
      "This code didn't actually *do* anything. It created a *literal expression* containing the value 5. What you see in brackets is the output type of the operation `Literal`. What is `int_expr`, then?"
     ]
    },
    {
     "cell_type": "code",
     "collapsed": false,
     "input": [
      "type(int_expr)"
     ],
     "language": "python",
     "metadata": {},
     "outputs": [
      {
       "metadata": {},
       "output_type": "pyout",
       "prompt_number": 3,
       "text": [
        "ibis.expr.types.Int8Scalar"
       ]
      }
     ],
     "prompt_number": 3
    },
    {
     "cell_type": "markdown",
     "metadata": {},
     "source": [
      "Okay, let's figure out this `int_expr` thing."
     ]
    },
    {
     "cell_type": "code",
     "collapsed": false,
     "input": [
      "int_expr + 10"
     ],
     "language": "python",
     "metadata": {},
     "outputs": [
      {
       "metadata": {},
       "output_type": "pyout",
       "prompt_number": 4,
       "text": [
        "Add[int8]\n",
        "  Literal[int8]\n",
        "    5\n",
        "  Literal[int8]\n",
        "    10"
       ]
      }
     ],
     "prompt_number": 4
    },
    {
     "cell_type": "code",
     "collapsed": false,
     "input": [
      "type(int_expr + 10)"
     ],
     "language": "python",
     "metadata": {},
     "outputs": [
      {
       "metadata": {},
       "output_type": "pyout",
       "prompt_number": 5,
       "text": [
        "ibis.expr.types.Int8Scalar"
       ]
      }
     ],
     "prompt_number": 5
    },
    {
     "cell_type": "code",
     "collapsed": false,
     "input": [
      "expr = (int_expr + 10).sqrt()\n",
      "expr"
     ],
     "language": "python",
     "metadata": {},
     "outputs": [
      {
       "metadata": {},
       "output_type": "pyout",
       "prompt_number": 6,
       "text": [
        "Sqrt[double]\n",
        "  Add[int8]\n",
        "    Literal[int8]\n",
        "      5\n",
        "    Literal[int8]\n",
        "      10"
       ]
      }
     ],
     "prompt_number": 6
    },
    {
     "cell_type": "markdown",
     "metadata": {},
     "source": [
      "Read the expression tree inside out. So `10` got automatically converted to a literal, then they're `Add`-ed together, finally `Sqrt` is applied. Note that:"
     ]
    },
    {
     "cell_type": "code",
     "collapsed": false,
     "input": [
      "type(expr)"
     ],
     "language": "python",
     "metadata": {},
     "outputs": [
      {
       "metadata": {},
       "output_type": "pyout",
       "prompt_number": 7,
       "text": [
        "ibis.expr.types.DoubleScalar"
       ]
      }
     ],
     "prompt_number": 7
    },
    {
     "cell_type": "markdown",
     "metadata": {},
     "source": [
      "Let's round it to 2 decimal places for good measure:"
     ]
    },
    {
     "cell_type": "code",
     "collapsed": false,
     "input": [
      "rounded = expr.round(2)\n",
      "\n",
      "print('Type is {0!r}'.format(type(rounded)))\n",
      "\n",
      "rounded"
     ],
     "language": "python",
     "metadata": {},
     "outputs": [
      {
       "output_type": "stream",
       "stream": "stdout",
       "text": [
        "Type is <class 'ibis.expr.types.DoubleScalar'>\n"
       ]
      },
      {
       "metadata": {},
       "output_type": "pyout",
       "prompt_number": 8,
       "text": [
        "Round[double]\n",
        "  Sqrt[double]\n",
        "    Add[int8]\n",
        "      Literal[int8]\n",
        "        5\n",
        "      Literal[int8]\n",
        "        10\n",
        "  Literal[int8]\n",
        "    2"
       ]
      }
     ],
     "prompt_number": 8
    },
    {
     "cell_type": "markdown",
     "metadata": {},
     "source": [
      "Now, if you wanted to run this expression inside Impala, it would get translated to this SQL:"
     ]
    },
    {
     "cell_type": "code",
     "collapsed": false,
     "input": [
      "print(ibis.impala.compile(rounded))"
     ],
     "language": "python",
     "metadata": {},
     "outputs": [
      {
       "output_type": "stream",
       "stream": "stdout",
       "text": [
        "SELECT round(sqrt(5 + 10), 2) AS `tmp`\n"
       ]
      }
     ],
     "prompt_number": 9
    },
    {
     "cell_type": "markdown",
     "metadata": {},
     "source": [
      "Indeed:"
     ]
    },
    {
     "cell_type": "code",
     "collapsed": false,
     "input": [
      "con = ibis.impala.connect('bottou01.sjc.cloudera.com')\n",
      "con.execute(rounded)"
     ],
     "language": "python",
     "metadata": {},
     "outputs": [
      {
       "metadata": {},
       "output_type": "pyout",
       "prompt_number": 10,
       "text": [
        "3.8700000000000001"
       ]
      }
     ],
     "prompt_number": 10
    },
    {
     "cell_type": "markdown",
     "metadata": {},
     "source": [
      "Let's look at a table now:"
     ]
    },
    {
     "cell_type": "code",
     "collapsed": false,
     "input": [
      "db = con.database('ibis_testing')\n",
      "t = db.functional_alltypes\n",
      "t"
     ],
     "language": "python",
     "metadata": {},
     "outputs": [
      {
       "metadata": {},
       "output_type": "pyout",
       "prompt_number": 11,
       "text": [
        "DatabaseTable[table]\n",
        "  name: ibis_testing.`functional_alltypes`\n",
        "  schema:\n",
        "    id : int32\n",
        "    bool_col : boolean\n",
        "    tinyint_col : int8\n",
        "    smallint_col : int16\n",
        "    int_col : int32\n",
        "    bigint_col : int64\n",
        "    float_col : float\n",
        "    double_col : double\n",
        "    date_string_col : string\n",
        "    string_col : string\n",
        "    timestamp_col : timestamp\n",
        "    year : int32\n",
        "    month : int32"
       ]
      }
     ],
     "prompt_number": 11
    },
    {
     "cell_type": "code",
     "collapsed": false,
     "input": [
      "type(t)"
     ],
     "language": "python",
     "metadata": {},
     "outputs": [
      {
       "metadata": {},
       "output_type": "pyout",
       "prompt_number": 12,
       "text": [
        "ibis.impala.client.ImpalaTable"
       ]
      }
     ],
     "prompt_number": 12
    },
    {
     "cell_type": "markdown",
     "metadata": {},
     "source": [
      "This says `ImpalaTable`, but it's really `TableExpr` with a few extra methods that are Impala-specific. For experienced Pythonistas, you'll know the `mro` method gives you the full inheritance hierarchy:"
     ]
    },
    {
     "cell_type": "code",
     "collapsed": false,
     "input": [
      "type(t).mro()"
     ],
     "language": "python",
     "metadata": {},
     "outputs": [
      {
       "metadata": {},
       "output_type": "pyout",
       "prompt_number": 13,
       "text": [
        "[ibis.impala.client.ImpalaTable,\n",
        " ibis.expr.types.TableExpr,\n",
        " ibis.expr.types.Expr,\n",
        " ibis.client.DatabaseEntity,\n",
        " object]"
       ]
      }
     ],
     "prompt_number": 13
    },
    {
     "cell_type": "markdown",
     "metadata": {},
     "source": [
      "Now let's compute the same expression from above on `tinyint_col`, and sum it for kicks. I'll write it with one line per operation and add comments that show the operation name and output type of each operation:"
     ]
    },
    {
     "cell_type": "code",
     "collapsed": false,
     "input": [
      "expr = (t             # DatabaseTable -> TableExpr\n",
      "        .limit(20)    # Limit         -> TableExpr\n",
      "        .tinyint_col  # TableColumn   -> Int8Array\n",
      "        .add(10)      # Add           -> Int16Array\n",
      "        .sqrt()       # Sqrt          -> DoubleArray\n",
      "        .round(2)     # Round         -> DoubleArray\n",
      "        .sum())       # Sum           -> DoubleScalar\n",
      "\n",
      "expr"
     ],
     "language": "python",
     "metadata": {},
     "outputs": [
      {
       "metadata": {},
       "output_type": "pyout",
       "prompt_number": 14,
       "text": [
        "ref_0\n",
        "DatabaseTable[table]\n",
        "  name: ibis_testing.`functional_alltypes`\n",
        "  schema:\n",
        "    id : int32\n",
        "    bool_col : boolean\n",
        "    tinyint_col : int8\n",
        "    smallint_col : int16\n",
        "    int_col : int32\n",
        "    bigint_col : int64\n",
        "    float_col : float\n",
        "    double_col : double\n",
        "    date_string_col : string\n",
        "    string_col : string\n",
        "    timestamp_col : timestamp\n",
        "    year : int32\n",
        "    month : int32\n",
        "\n",
        "sum = Sum[double]\n",
        "  Round[array(double)]\n",
        "    Sqrt[array(double)]\n",
        "      Add[array(int16)]\n",
        "        tinyint_col = Column[array(int8)] 'tinyint_col' from table \n",
        "          Limit[table]\n",
        "            Table: ref_0\n",
        "            n:\n",
        "              20\n",
        "            offset:\n",
        "              0\n",
        "        Literal[int8]\n",
        "          10\n",
        "    Literal[int8]\n",
        "      2\n",
        "  None"
       ]
      }
     ],
     "prompt_number": 14
    },
    {
     "cell_type": "markdown",
     "metadata": {},
     "source": [
      "As desired:"
     ]
    },
    {
     "cell_type": "code",
     "collapsed": false,
     "input": [
      "type(expr)"
     ],
     "language": "python",
     "metadata": {},
     "outputs": [
      {
       "metadata": {},
       "output_type": "pyout",
       "prompt_number": 15,
       "text": [
        "ibis.expr.types.DoubleScalar"
       ]
      }
     ],
     "prompt_number": 15
    },
    {
     "cell_type": "markdown",
     "metadata": {},
     "source": [
      "And:"
     ]
    },
    {
     "cell_type": "code",
     "collapsed": false,
     "input": [
      "con.execute(expr)"
     ],
     "language": "python",
     "metadata": {},
     "outputs": [
      {
       "metadata": {},
       "output_type": "pyout",
       "prompt_number": 16,
       "text": [
        "75.760000000000005"
       ]
      }
     ],
     "prompt_number": 16
    },
    {
     "cell_type": "code",
     "collapsed": false,
     "input": [
      "print(expr.compile())"
     ],
     "language": "python",
     "metadata": {},
     "outputs": [
      {
       "output_type": "stream",
       "stream": "stdout",
       "text": [
        "SELECT sum(round(sqrt(`tinyint_col` + 10), 2)) AS `sum`\n",
        "FROM (\n",
        "  SELECT *\n",
        "  FROM ibis_testing.`functional_alltypes`\n",
        "  LIMIT 20\n",
        ") t0\n"
       ]
      }
     ],
     "prompt_number": 17
    },
    {
     "cell_type": "markdown",
     "metadata": {},
     "source": [
      "Here's the important thing: **the user never interacts with the actual operations**. As a user, **all you see are well-typed expressions having a particular value type (scalar, array, or table)**. This makes your mode of interaction consistent and 100% reliable from step to step."
     ]
    },
    {
     "cell_type": "markdown",
     "metadata": {},
     "source": [
      "## How operations yield expressions\n",
      "\n",
      "To help understand how the DSL is constructed, let's deconstruct a simple string operation:"
     ]
    },
    {
     "cell_type": "code",
     "collapsed": false,
     "input": [
      "expr = ibis.literal('wes mckinney')\n",
      "type(expr)"
     ],
     "language": "python",
     "metadata": {},
     "outputs": [
      {
       "metadata": {},
       "output_type": "pyout",
       "prompt_number": 18,
       "text": [
        "ibis.expr.types.StringScalar"
       ]
      }
     ],
     "prompt_number": 18
    },
    {
     "cell_type": "code",
     "collapsed": false,
     "input": [
      "chopped = expr.substr(4)\n",
      "chopped"
     ],
     "language": "python",
     "metadata": {},
     "outputs": [
      {
       "metadata": {},
       "output_type": "pyout",
       "prompt_number": 19,
       "text": [
        "Substring[string]\n",
        "  Literal[string]\n",
        "    wes mckinney\n",
        "  Literal[int8]\n",
        "    4\n",
        "  None"
       ]
      }
     ],
     "prompt_number": 19
    },
    {
     "cell_type": "code",
     "collapsed": false,
     "input": [
      "chopped.execute()"
     ],
     "language": "python",
     "metadata": {},
     "outputs": [
      {
       "metadata": {},
       "output_type": "pyout",
       "prompt_number": 20,
       "text": [
        "'mckinney'"
       ]
      }
     ],
     "prompt_number": 20
    },
    {
     "cell_type": "markdown",
     "metadata": {},
     "source": [
      "Here is the implementation of `Substring`:\n",
      "\n",
      "```python\n",
      "class Substring(ValueOp):\n",
      "\n",
      "    input_type = [string, integer(name='start'),\n",
      "                  integer(name='length', optional=True)]\n",
      "    output_type = rules.shape_like_arg(0, 'string')\n",
      "```\n",
      "\n",
      "What's going on when I call `expr.substr(4)` is, in fact:"
     ]
    },
    {
     "cell_type": "code",
     "collapsed": false,
     "input": [
      "import ibis.expr.operations as ops\n",
      "\n",
      "op = ops.Substring(expr, 4)\n",
      "\n",
      "type(op)"
     ],
     "language": "python",
     "metadata": {},
     "outputs": [
      {
       "metadata": {},
       "output_type": "pyout",
       "prompt_number": 21,
       "text": [
        "ibis.expr.operations.Substring"
       ]
      }
     ],
     "prompt_number": 21
    },
    {
     "cell_type": "markdown",
     "metadata": {},
     "source": [
      "Among other things, this validated that the arguments match the `input_type` signature.\n",
      "\n",
      "The user will *never* directly interact with this object. All that matters is that its output is another string."
     ]
    },
    {
     "cell_type": "code",
     "collapsed": false,
     "input": [
      "op.output_type()"
     ],
     "language": "python",
     "metadata": {},
     "outputs": [
      {
       "metadata": {},
       "output_type": "pyout",
       "prompt_number": 22,
       "text": [
        "ibis.expr.types.StringScalar"
       ]
      }
     ],
     "prompt_number": 22
    },
    {
     "cell_type": "markdown",
     "metadata": {},
     "source": [
      "Internally, Ibis calls the operation instance's `to_expr` method which wraps the operation in a `StringScalar` expression:"
     ]
    },
    {
     "cell_type": "code",
     "collapsed": false,
     "input": [
      "chopped = op.to_expr()\n",
      "chopped"
     ],
     "language": "python",
     "metadata": {},
     "outputs": [
      {
       "metadata": {},
       "output_type": "pyout",
       "prompt_number": 23,
       "text": [
        "Substring[string]\n",
        "  Literal[string]\n",
        "    wes mckinney\n",
        "  Literal[int8]\n",
        "    4\n",
        "  None"
       ]
      }
     ],
     "prompt_number": 23
    },
    {
     "cell_type": "markdown",
     "metadata": {},
     "source": [
      "## Helping you avoid invalid operations\n",
      "\n",
      "> **NB.** This addresses a frequent rough edge I experienced when using NumPy to build pandas; namely that there is a single `ndarray` type whose values are only distinguished by the `dtype` attribute. pandas is now full of workarounds to provide data type-specific functionality on `Series` objects.\n",
      "\n",
      "Ibis tries to save you from forming invalid expressions in two ways:\n",
      "\n",
      "* All instance methods on an expression are guaranteed to be valid (assuming there is a translation rule for your target SQL engine).\n",
      "* Type-checking happens immediately, informing you of any mistakes\n",
      "\n",
      "\n",
      "Let's have a closer look at this. I'll use a simplified table (not referencing any real data) to make the output here more compact:"
     ]
    },
    {
     "cell_type": "code",
     "collapsed": false,
     "input": [
      "t2 = ibis.table([('v1', 'double'),\n",
      "                 ('v2', 'int32'),\n",
      "                 ('v3', 'string')], 'hamster')\n",
      "t2"
     ],
     "language": "python",
     "metadata": {},
     "outputs": [
      {
       "metadata": {},
       "output_type": "pyout",
       "prompt_number": 24,
       "text": [
        "UnboundTable[table]\n",
        "  name: hamster\n",
        "  schema:\n",
        "    v1 : double\n",
        "    v2 : int32\n",
        "    v3 : string"
       ]
      }
     ],
     "prompt_number": 24
    },
    {
     "cell_type": "markdown",
     "metadata": {},
     "source": [
      "Let's look at the string column `v3`:"
     ]
    },
    {
     "cell_type": "code",
     "collapsed": false,
     "input": [
      "t2.v3"
     ],
     "language": "python",
     "metadata": {},
     "outputs": [
      {
       "metadata": {},
       "output_type": "pyout",
       "prompt_number": 25,
       "text": [
        "ref_0\n",
        "UnboundTable[table]\n",
        "  name: hamster\n",
        "  schema:\n",
        "    v1 : double\n",
        "    v2 : int32\n",
        "    v3 : string\n",
        "\n",
        "v3 = Column[array(string)] 'v3' from table ref_0"
       ]
      }
     ],
     "prompt_number": 25
    },
    {
     "cell_type": "markdown",
     "metadata": {},
     "source": [
      "The numeric methods we used above are not even available on v3:"
     ]
    },
    {
     "cell_type": "code",
     "collapsed": false,
     "input": [
      "t2.v3.sum()"
     ],
     "language": "python",
     "metadata": {},
     "outputs": [
      {
       "ename": "AttributeError",
       "evalue": "'StringArray' object has no attribute 'sum'",
       "output_type": "pyerr",
       "traceback": [
        "\u001b[0;31m---------------------------------------------------------------------------\u001b[0m\n\u001b[0;31mAttributeError\u001b[0m                            Traceback (most recent call last)",
        "\u001b[0;32m<ipython-input-26-fbd74f99b121>\u001b[0m in \u001b[0;36m<module>\u001b[0;34m()\u001b[0m\n\u001b[0;32m----> 1\u001b[0;31m \u001b[0mt2\u001b[0m\u001b[0;34m.\u001b[0m\u001b[0mv3\u001b[0m\u001b[0;34m.\u001b[0m\u001b[0msum\u001b[0m\u001b[0;34m(\u001b[0m\u001b[0;34m)\u001b[0m\u001b[0;34m\u001b[0m\u001b[0m\n\u001b[0m",
        "\u001b[0;31mAttributeError\u001b[0m: 'StringArray' object has no attribute 'sum'"
       ]
      }
     ],
     "prompt_number": 26
    },
    {
     "cell_type": "markdown",
     "metadata": {},
     "source": [
      "This constraint applies to all expressions. Suppose we casted `v1` to string; this would still be true:"
     ]
    },
    {
     "cell_type": "code",
     "collapsed": false,
     "input": [
      "t2.v1.sum()"
     ],
     "language": "python",
     "metadata": {},
     "outputs": [
      {
       "metadata": {},
       "output_type": "pyout",
       "prompt_number": 27,
       "text": [
        "ref_0\n",
        "UnboundTable[table]\n",
        "  name: hamster\n",
        "  schema:\n",
        "    v1 : double\n",
        "    v2 : int32\n",
        "    v3 : string\n",
        "\n",
        "sum = Sum[double]\n",
        "  v1 = Column[array(double)] 'v1' from table ref_0\n",
        "  None"
       ]
      }
     ],
     "prompt_number": 27
    },
    {
     "cell_type": "code",
     "collapsed": false,
     "input": [
      "t2.v1.cast('string').sum()"
     ],
     "language": "python",
     "metadata": {},
     "outputs": [
      {
       "ename": "AttributeError",
       "evalue": "'StringArray' object has no attribute 'sum'",
       "output_type": "pyerr",
       "traceback": [
        "\u001b[0;31m---------------------------------------------------------------------------\u001b[0m\n\u001b[0;31mAttributeError\u001b[0m                            Traceback (most recent call last)",
        "\u001b[0;32m<ipython-input-28-b4e33ca864fd>\u001b[0m in \u001b[0;36m<module>\u001b[0;34m()\u001b[0m\n\u001b[0;32m----> 1\u001b[0;31m \u001b[0mt2\u001b[0m\u001b[0;34m.\u001b[0m\u001b[0mv1\u001b[0m\u001b[0;34m.\u001b[0m\u001b[0mcast\u001b[0m\u001b[0;34m(\u001b[0m\u001b[0;34m'string'\u001b[0m\u001b[0;34m)\u001b[0m\u001b[0;34m.\u001b[0m\u001b[0msum\u001b[0m\u001b[0;34m(\u001b[0m\u001b[0;34m)\u001b[0m\u001b[0;34m\u001b[0m\u001b[0m\n\u001b[0m",
        "\u001b[0;31mAttributeError\u001b[0m: 'StringArray' object has no attribute 'sum'"
       ]
      }
     ],
     "prompt_number": 28
    },
    {
     "cell_type": "markdown",
     "metadata": {},
     "source": [
      "In addition to not allowing you to call invalid instance methods, input arguments are all type-checked:"
     ]
    },
    {
     "cell_type": "code",
     "collapsed": false,
     "input": [
      "expr = t2.v1.round(2)  # valid\n",
      "\n",
      "t2.v1.round('foo')  # invalid"
     ],
     "language": "python",
     "metadata": {},
     "outputs": [
      {
       "ename": "IbisTypeError",
       "evalue": "Argument 1: not integer\nArgument was: 'foo'",
       "output_type": "pyerr",
       "traceback": [
        "\u001b[0;31m---------------------------------------------------------------------------\u001b[0m\n\u001b[0;31mIbisTypeError\u001b[0m                             Traceback (most recent call last)",
        "\u001b[0;32m<ipython-input-29-844feacfdc97>\u001b[0m in \u001b[0;36m<module>\u001b[0;34m()\u001b[0m\n\u001b[1;32m      1\u001b[0m \u001b[0mexpr\u001b[0m \u001b[0;34m=\u001b[0m \u001b[0mt2\u001b[0m\u001b[0;34m.\u001b[0m\u001b[0mv1\u001b[0m\u001b[0;34m.\u001b[0m\u001b[0mround\u001b[0m\u001b[0;34m(\u001b[0m\u001b[0;36m2\u001b[0m\u001b[0;34m)\u001b[0m  \u001b[0;31m# valid\u001b[0m\u001b[0;34m\u001b[0m\u001b[0m\n\u001b[1;32m      2\u001b[0m \u001b[0;34m\u001b[0m\u001b[0m\n\u001b[0;32m----> 3\u001b[0;31m \u001b[0mt2\u001b[0m\u001b[0;34m.\u001b[0m\u001b[0mv1\u001b[0m\u001b[0;34m.\u001b[0m\u001b[0mround\u001b[0m\u001b[0;34m(\u001b[0m\u001b[0;34m'foo'\u001b[0m\u001b[0;34m)\u001b[0m  \u001b[0;31m# invalid\u001b[0m\u001b[0;34m\u001b[0m\u001b[0m\n\u001b[0m",
        "\u001b[0;32m/Users/wes/code/ibis/ibis/expr/api.pyc\u001b[0m in \u001b[0;36mround\u001b[0;34m(arg, digits)\u001b[0m\n\u001b[1;32m    955\u001b[0m         \u001b[0mother\u001b[0m \u001b[0mnumeric\u001b[0m \u001b[0mtypes\u001b[0m\u001b[0;34m:\u001b[0m \u001b[0mdouble\u001b[0m\u001b[0;34m\u001b[0m\u001b[0m\n\u001b[1;32m    956\u001b[0m     \"\"\"\n\u001b[0;32m--> 957\u001b[0;31m     \u001b[0mop\u001b[0m \u001b[0;34m=\u001b[0m \u001b[0m_ops\u001b[0m\u001b[0;34m.\u001b[0m\u001b[0mRound\u001b[0m\u001b[0;34m(\u001b[0m\u001b[0marg\u001b[0m\u001b[0;34m,\u001b[0m \u001b[0mdigits\u001b[0m\u001b[0;34m)\u001b[0m\u001b[0;34m\u001b[0m\u001b[0m\n\u001b[0m\u001b[1;32m    958\u001b[0m     \u001b[0;32mreturn\u001b[0m \u001b[0mop\u001b[0m\u001b[0;34m.\u001b[0m\u001b[0mto_expr\u001b[0m\u001b[0;34m(\u001b[0m\u001b[0;34m)\u001b[0m\u001b[0;34m\u001b[0m\u001b[0m\n\u001b[1;32m    959\u001b[0m \u001b[0;34m\u001b[0m\u001b[0m\n",
        "\u001b[0;32m/Users/wes/code/ibis/ibis/expr/types.pyc\u001b[0m in \u001b[0;36m__init__\u001b[0;34m(self, *args)\u001b[0m\n\u001b[1;32m    269\u001b[0m \u001b[0;34m\u001b[0m\u001b[0m\n\u001b[1;32m    270\u001b[0m     \u001b[0;32mdef\u001b[0m \u001b[0m__init__\u001b[0m\u001b[0;34m(\u001b[0m\u001b[0mself\u001b[0m\u001b[0;34m,\u001b[0m \u001b[0;34m*\u001b[0m\u001b[0margs\u001b[0m\u001b[0;34m)\u001b[0m\u001b[0;34m:\u001b[0m\u001b[0;34m\u001b[0m\u001b[0m\n\u001b[0;32m--> 271\u001b[0;31m         \u001b[0margs\u001b[0m \u001b[0;34m=\u001b[0m \u001b[0mself\u001b[0m\u001b[0;34m.\u001b[0m\u001b[0m_validate_args\u001b[0m\u001b[0;34m(\u001b[0m\u001b[0margs\u001b[0m\u001b[0;34m)\u001b[0m\u001b[0;34m\u001b[0m\u001b[0m\n\u001b[0m\u001b[1;32m    272\u001b[0m         \u001b[0mNode\u001b[0m\u001b[0;34m.\u001b[0m\u001b[0m__init__\u001b[0m\u001b[0;34m(\u001b[0m\u001b[0mself\u001b[0m\u001b[0;34m,\u001b[0m \u001b[0margs\u001b[0m\u001b[0;34m)\u001b[0m\u001b[0;34m\u001b[0m\u001b[0m\n\u001b[1;32m    273\u001b[0m \u001b[0;34m\u001b[0m\u001b[0m\n",
        "\u001b[0;32m/Users/wes/code/ibis/ibis/expr/types.pyc\u001b[0m in \u001b[0;36m_validate_args\u001b[0;34m(self, args)\u001b[0m\n\u001b[1;32m    276\u001b[0m             \u001b[0;32mreturn\u001b[0m \u001b[0margs\u001b[0m\u001b[0;34m\u001b[0m\u001b[0m\n\u001b[1;32m    277\u001b[0m \u001b[0;34m\u001b[0m\u001b[0m\n\u001b[0;32m--> 278\u001b[0;31m         \u001b[0;32mreturn\u001b[0m \u001b[0mself\u001b[0m\u001b[0;34m.\u001b[0m\u001b[0minput_type\u001b[0m\u001b[0;34m.\u001b[0m\u001b[0mvalidate\u001b[0m\u001b[0;34m(\u001b[0m\u001b[0margs\u001b[0m\u001b[0;34m)\u001b[0m\u001b[0;34m\u001b[0m\u001b[0m\n\u001b[0m\u001b[1;32m    279\u001b[0m \u001b[0;34m\u001b[0m\u001b[0m\n\u001b[1;32m    280\u001b[0m     \u001b[0;32mdef\u001b[0m \u001b[0mroot_tables\u001b[0m\u001b[0;34m(\u001b[0m\u001b[0mself\u001b[0m\u001b[0;34m)\u001b[0m\u001b[0;34m:\u001b[0m\u001b[0;34m\u001b[0m\u001b[0m\n",
        "\u001b[0;32m/Users/wes/code/ibis/ibis/expr/rules.pyc\u001b[0m in \u001b[0;36mvalidate\u001b[0;34m(self, args)\u001b[0m\n\u001b[1;32m    345\u001b[0m             \u001b[0margs\u001b[0m \u001b[0;34m=\u001b[0m \u001b[0mlist\u001b[0m\u001b[0;34m(\u001b[0m\u001b[0margs\u001b[0m\u001b[0;34m)\u001b[0m \u001b[0;34m+\u001b[0m \u001b[0;34m[\u001b[0m\u001b[0mt\u001b[0m\u001b[0;34m.\u001b[0m\u001b[0mdefault\u001b[0m \u001b[0;32mfor\u001b[0m \u001b[0mt\u001b[0m \u001b[0;32min\u001b[0m \u001b[0mself\u001b[0m\u001b[0;34m.\u001b[0m\u001b[0mtypes\u001b[0m\u001b[0;34m[\u001b[0m\u001b[0mn\u001b[0m\u001b[0;34m:\u001b[0m\u001b[0;34m]\u001b[0m\u001b[0;34m]\u001b[0m\u001b[0;34m\u001b[0m\u001b[0m\n\u001b[1;32m    346\u001b[0m \u001b[0;34m\u001b[0m\u001b[0m\n\u001b[0;32m--> 347\u001b[0;31m         \u001b[0;32mreturn\u001b[0m \u001b[0mself\u001b[0m\u001b[0;34m.\u001b[0m\u001b[0m_validate\u001b[0m\u001b[0;34m(\u001b[0m\u001b[0margs\u001b[0m\u001b[0;34m,\u001b[0m \u001b[0mself\u001b[0m\u001b[0;34m.\u001b[0m\u001b[0mtypes\u001b[0m\u001b[0;34m)\u001b[0m\u001b[0;34m\u001b[0m\u001b[0m\n\u001b[0m\u001b[1;32m    348\u001b[0m \u001b[0;34m\u001b[0m\u001b[0m\n\u001b[1;32m    349\u001b[0m     \u001b[0;32mdef\u001b[0m \u001b[0m_validate\u001b[0m\u001b[0;34m(\u001b[0m\u001b[0mself\u001b[0m\u001b[0;34m,\u001b[0m \u001b[0margs\u001b[0m\u001b[0;34m,\u001b[0m \u001b[0mtypes\u001b[0m\u001b[0;34m)\u001b[0m\u001b[0;34m:\u001b[0m\u001b[0;34m\u001b[0m\u001b[0m\n",
        "\u001b[0;32m/Users/wes/code/ibis/ibis/expr/rules.pyc\u001b[0m in \u001b[0;36m_validate\u001b[0;34m(self, args, types)\u001b[0m\n\u001b[1;32m    356\u001b[0m                 msg = ('Argument {0}: {1}'.format(i, exc) +\n\u001b[1;32m    357\u001b[0m                        '\\nArgument was: {0}'.format(ir._safe_repr(args[i])))\n\u001b[0;32m--> 358\u001b[0;31m                 \u001b[0;32mraise\u001b[0m \u001b[0mIbisTypeError\u001b[0m\u001b[0;34m(\u001b[0m\u001b[0mmsg\u001b[0m\u001b[0;34m)\u001b[0m\u001b[0;34m\u001b[0m\u001b[0m\n\u001b[0m\u001b[1;32m    359\u001b[0m \u001b[0;34m\u001b[0m\u001b[0m\n\u001b[1;32m    360\u001b[0m         \u001b[0;32mreturn\u001b[0m \u001b[0mclean_args\u001b[0m\u001b[0;34m\u001b[0m\u001b[0m\n",
        "\u001b[0;31mIbisTypeError\u001b[0m: Argument 1: not integer\nArgument was: 'foo'"
       ]
      }
     ],
     "prompt_number": 29
    },
    {
     "cell_type": "markdown",
     "metadata": {},
     "source": [
      "## Expression type hierarchies\n",
      "\n",
      "The user expression types inherit from a particular value type along with a shape type (table, array, or scalar). \n",
      "\n",
      "<center><img src=\"../images/int8value-mro.png\"></img></center>\n",
      "\n",
      "Methods are shared amongst type classes, and the classes assist with type validation, implicit casts, and other internal matters in the DSL and SQL compiler toolchain."
     ]
    },
    {
     "cell_type": "markdown",
     "metadata": {},
     "source": [
      "## Some Ibis and Blaze DSL comparisons\n",
      "\n",
      "Since DSLs are inherently nuanced things, the only real way to evaluate them fully is to try to solve *your problem* using one of them.\n",
      "\n",
      "Architectural similarities are interesting, but in my experience **API design / usability** and **comprehensive solutions to use cases** are the only things that users care about. Blaze today conflicts with my (definitely opinionated) API design preferences and my understanding of the needs of SQL users (the intended audience for Ibis). It was much simpler for me to design a solution from scratch (whose design can be quickly changed without project governance issues) that meets my target users' design and usability requirements.\n",
      "\n",
      "In an [earlier post here](http://blog.ibis-project.org/other-compute-engines/), I described how our priorities with Ibis are out of alignment with Blaze. I had a phone call with Continuum Analytics this past week to discuss Ibis and Blaze goals, use cases, and possible collaborations. They asked me for specific feedback on Blaze's API, so I'm digging in here to look closer."
     ]
    },
    {
     "cell_type": "code",
     "collapsed": false,
     "input": [
      "import blaze as bz\n",
      "\n",
      "t = bz.TableSymbol('hamster', '{v1: float64, v2: int32, v3: string}')\n",
      "t"
     ],
     "language": "python",
     "metadata": {},
     "outputs": [
      {
       "html": [
        "hamster"
       ],
       "metadata": {},
       "output_type": "pyout",
       "prompt_number": 30,
       "text": [
        "hamster"
       ]
      }
     ],
     "prompt_number": 30
    },
    {
     "cell_type": "code",
     "collapsed": false,
     "input": [
      "type(t)"
     ],
     "language": "python",
     "metadata": {},
     "outputs": [
      {
       "metadata": {},
       "output_type": "pyout",
       "prompt_number": 31,
       "text": [
        "blaze.expr.expressions.Symbol"
       ]
      }
     ],
     "prompt_number": 31
    },
    {
     "cell_type": "markdown",
     "metadata": {},
     "source": [
      "Okay, how about the class hierarchy?"
     ]
    },
    {
     "cell_type": "code",
     "collapsed": false,
     "input": [
      "type(t).mro()"
     ],
     "language": "python",
     "metadata": {},
     "outputs": [
      {
       "metadata": {},
       "output_type": "pyout",
       "prompt_number": 32,
       "text": [
        "[blaze.expr.expressions.Symbol,\n",
        " blaze.expr.expressions.Expr,\n",
        " blaze.expr.core.Node,\n",
        " object]"
       ]
      }
     ],
     "prompt_number": 32
    },
    {
     "cell_type": "markdown",
     "metadata": {},
     "source": [
      "Alright. You can find out what kind of expression you're dealing with by looking at the `dshape` attribute:"
     ]
    },
    {
     "cell_type": "code",
     "collapsed": false,
     "input": [
      "t.dshape"
     ],
     "language": "python",
     "metadata": {},
     "outputs": [
      {
       "metadata": {},
       "output_type": "pyout",
       "prompt_number": 33,
       "text": [
        "dshape(\"var * {v1: float64, v2: int32, v3: string}\")"
       ]
      }
     ],
     "prompt_number": 33
    },
    {
     "cell_type": "markdown",
     "metadata": {},
     "source": [
      "This is very NumPy-like, which is good and bad for reasons I've cited. \n",
      "\n",
      "Let's look at a few simple expressions like the above:"
     ]
    },
    {
     "cell_type": "code",
     "collapsed": false,
     "input": [
      "expr = t.v1.sum()"
     ],
     "language": "python",
     "metadata": {},
     "outputs": [],
     "prompt_number": 34
    },
    {
     "cell_type": "markdown",
     "metadata": {},
     "source": [
      "In Ibis, this yields a `DoubleScalar`. Here it's a little different because there are no value types, only `Expr`:"
     ]
    },
    {
     "cell_type": "code",
     "collapsed": false,
     "input": [
      "expr"
     ],
     "language": "python",
     "metadata": {},
     "outputs": [
      {
       "html": [
        "sum(hamster.v1)"
       ],
       "metadata": {},
       "output_type": "pyout",
       "prompt_number": 35,
       "text": [
        "sum(hamster.v1)"
       ]
      }
     ],
     "prompt_number": 35
    },
    {
     "cell_type": "code",
     "collapsed": false,
     "input": [
      "type(expr)"
     ],
     "language": "python",
     "metadata": {},
     "outputs": [
      {
       "metadata": {},
       "output_type": "pyout",
       "prompt_number": 36,
       "text": [
        "blaze.expr.reductions.sum"
       ]
      }
     ],
     "prompt_number": 36
    },
    {
     "cell_type": "code",
     "collapsed": false,
     "input": [
      "type(expr).mro()"
     ],
     "language": "python",
     "metadata": {},
     "outputs": [
      {
       "metadata": {},
       "output_type": "pyout",
       "prompt_number": 37,
       "text": [
        "[blaze.expr.reductions.sum,\n",
        " blaze.expr.reductions.Reduction,\n",
        " blaze.expr.expressions.Expr,\n",
        " blaze.expr.core.Node,\n",
        " object]"
       ]
      }
     ],
     "prompt_number": 37
    },
    {
     "cell_type": "code",
     "collapsed": false,
     "input": [
      "expr.dshape"
     ],
     "language": "python",
     "metadata": {},
     "outputs": [
      {
       "metadata": {},
       "output_type": "pyout",
       "prompt_number": 38,
       "text": [
        "dshape(\"float64\")"
       ]
      }
     ],
     "prompt_number": 38
    },
    {
     "cell_type": "markdown",
     "metadata": {},
     "source": [
      "You also can't do `sum` on a string:"
     ]
    },
    {
     "cell_type": "code",
     "collapsed": false,
     "input": [
      "t.v3.sum()"
     ],
     "language": "python",
     "metadata": {},
     "outputs": [
      {
       "ename": "AttributeError",
       "evalue": "'Field' object has no attribute 'sum'",
       "output_type": "pyerr",
       "traceback": [
        "\u001b[0;31m---------------------------------------------------------------------------\u001b[0m\n\u001b[0;31mAttributeError\u001b[0m                            Traceback (most recent call last)",
        "\u001b[0;32m<ipython-input-39-32d7bb6499a7>\u001b[0m in \u001b[0;36m<module>\u001b[0;34m()\u001b[0m\n\u001b[0;32m----> 1\u001b[0;31m \u001b[0mt\u001b[0m\u001b[0;34m.\u001b[0m\u001b[0mv3\u001b[0m\u001b[0;34m.\u001b[0m\u001b[0msum\u001b[0m\u001b[0;34m(\u001b[0m\u001b[0;34m)\u001b[0m\u001b[0;34m\u001b[0m\u001b[0m\n\u001b[0m",
        "\u001b[0;32m/Users/wes/anaconda/envs/ibis-blog/lib/python2.7/site-packages/blaze/expr/expressions.pyc\u001b[0m in \u001b[0;36m__getattr__\u001b[0;34m(self, key)\u001b[0m\n\u001b[1;32m    168\u001b[0m             \u001b[0;32mpass\u001b[0m\u001b[0;34m\u001b[0m\u001b[0m\n\u001b[1;32m    169\u001b[0m         \u001b[0;32mtry\u001b[0m\u001b[0;34m:\u001b[0m\u001b[0;34m\u001b[0m\u001b[0m\n\u001b[0;32m--> 170\u001b[0;31m             \u001b[0mresult\u001b[0m \u001b[0;34m=\u001b[0m \u001b[0mobject\u001b[0m\u001b[0;34m.\u001b[0m\u001b[0m__getattribute__\u001b[0m\u001b[0;34m(\u001b[0m\u001b[0mself\u001b[0m\u001b[0;34m,\u001b[0m \u001b[0mkey\u001b[0m\u001b[0;34m)\u001b[0m\u001b[0;34m\u001b[0m\u001b[0m\n\u001b[0m\u001b[1;32m    171\u001b[0m         \u001b[0;32mexcept\u001b[0m \u001b[0mAttributeError\u001b[0m\u001b[0;34m:\u001b[0m\u001b[0;34m\u001b[0m\u001b[0m\n\u001b[1;32m    172\u001b[0m             fields = dict(zip(map(valid_identifier, self.fields),\n",
        "\u001b[0;31mAttributeError\u001b[0m: 'Field' object has no attribute 'sum'"
       ]
      }
     ],
     "prompt_number": 39
    },
    {
     "cell_type": "markdown",
     "metadata": {},
     "source": [
      "Most methods in Blaze are not instance methods, and are instead found in `blaze.expr.functions`:"
     ]
    },
    {
     "cell_type": "code",
     "collapsed": false,
     "input": [
      "import blaze.expr.functions as bzfunc"
     ],
     "language": "python",
     "metadata": {},
     "outputs": [],
     "prompt_number": 40
    },
    {
     "cell_type": "markdown",
     "metadata": {},
     "source": [
      "Sadly, things start going poorly when I make mistakes using functions in `bzfunc`:"
     ]
    },
    {
     "cell_type": "code",
     "collapsed": false,
     "input": [
      "expr = bzfunc.sum(t.v3)\n",
      "expr"
     ],
     "language": "python",
     "metadata": {},
     "outputs": [
      {
       "html": [
        "sum(hamster.v3)"
       ],
       "metadata": {},
       "output_type": "pyout",
       "prompt_number": 41,
       "text": [
        "sum(hamster.v3)"
       ]
      }
     ],
     "prompt_number": 41
    },
    {
     "cell_type": "markdown",
     "metadata": {},
     "source": [
      "Wait, wasn't `v3` a string?"
     ]
    },
    {
     "cell_type": "code",
     "collapsed": false,
     "input": [
      "expr.dshape"
     ],
     "language": "python",
     "metadata": {},
     "outputs": [
      {
       "ename": "AssertionError",
       "evalue": "measure must be numeric",
       "output_type": "pyerr",
       "traceback": [
        "\u001b[0;31m---------------------------------------------------------------------------\u001b[0m\n\u001b[0;31mAssertionError\u001b[0m                            Traceback (most recent call last)",
        "\u001b[0;32m<ipython-input-42-b75fb756f813>\u001b[0m in \u001b[0;36m<module>\u001b[0;34m()\u001b[0m\n\u001b[0;32m----> 1\u001b[0;31m \u001b[0mexpr\u001b[0m\u001b[0;34m.\u001b[0m\u001b[0mdshape\u001b[0m\u001b[0;34m\u001b[0m\u001b[0m\n\u001b[0m",
        "\u001b[0;32m/Users/wes/anaconda/envs/ibis-blog/lib/python2.7/site-packages/blaze/expr/reductions.pyc\u001b[0m in \u001b[0;36mdshape\u001b[0;34m(self)\u001b[0m\n\u001b[1;32m     64\u001b[0m                           \u001b[0;32mfor\u001b[0m \u001b[0mi\u001b[0m\u001b[0;34m,\u001b[0m \u001b[0md\u001b[0m \u001b[0;32min\u001b[0m \u001b[0menumerate\u001b[0m\u001b[0;34m(\u001b[0m\u001b[0mself\u001b[0m\u001b[0;34m.\u001b[0m\u001b[0m_child\u001b[0m\u001b[0;34m.\u001b[0m\u001b[0mshape\u001b[0m\u001b[0;34m)\u001b[0m\u001b[0;34m\u001b[0m\u001b[0m\n\u001b[1;32m     65\u001b[0m                           if i not in axis)\n\u001b[0;32m---> 66\u001b[0;31m         \u001b[0;32mreturn\u001b[0m \u001b[0mDataShape\u001b[0m\u001b[0;34m(\u001b[0m\u001b[0;34m*\u001b[0m\u001b[0;34m(\u001b[0m\u001b[0mshape\u001b[0m \u001b[0;34m+\u001b[0m \u001b[0;34m(\u001b[0m\u001b[0mself\u001b[0m\u001b[0;34m.\u001b[0m\u001b[0mschema\u001b[0m\u001b[0;34m,\u001b[0m\u001b[0;34m)\u001b[0m\u001b[0;34m)\u001b[0m\u001b[0;34m)\u001b[0m\u001b[0;34m\u001b[0m\u001b[0m\n\u001b[0m\u001b[1;32m     67\u001b[0m \u001b[0;34m\u001b[0m\u001b[0m\n\u001b[1;32m     68\u001b[0m     \u001b[0;34m@\u001b[0m\u001b[0mproperty\u001b[0m\u001b[0;34m\u001b[0m\u001b[0m\n",
        "\u001b[0;32m/Users/wes/anaconda/envs/ibis-blog/lib/python2.7/site-packages/blaze/expr/reductions.pyc\u001b[0m in \u001b[0;36mschema\u001b[0;34m(self)\u001b[0m\n\u001b[1;32m    115\u001b[0m     \u001b[0;34m@\u001b[0m\u001b[0mproperty\u001b[0m\u001b[0;34m\u001b[0m\u001b[0m\n\u001b[1;32m    116\u001b[0m     \u001b[0;32mdef\u001b[0m \u001b[0mschema\u001b[0m\u001b[0;34m(\u001b[0m\u001b[0mself\u001b[0m\u001b[0;34m)\u001b[0m\u001b[0;34m:\u001b[0m\u001b[0;34m\u001b[0m\u001b[0m\n\u001b[0;32m--> 117\u001b[0;31m         \u001b[0;32mreturn\u001b[0m \u001b[0mDataShape\u001b[0m\u001b[0;34m(\u001b[0m\u001b[0mdatashape\u001b[0m\u001b[0;34m.\u001b[0m\u001b[0mmaxtype\u001b[0m\u001b[0;34m(\u001b[0m\u001b[0msuper\u001b[0m\u001b[0;34m(\u001b[0m\u001b[0msum\u001b[0m\u001b[0;34m,\u001b[0m \u001b[0mself\u001b[0m\u001b[0;34m)\u001b[0m\u001b[0;34m.\u001b[0m\u001b[0mschema\u001b[0m\u001b[0;34m)\u001b[0m\u001b[0;34m)\u001b[0m\u001b[0;34m\u001b[0m\u001b[0m\n\u001b[0m\u001b[1;32m    118\u001b[0m \u001b[0;34m\u001b[0m\u001b[0m\n\u001b[1;32m    119\u001b[0m \u001b[0;34m\u001b[0m\u001b[0m\n",
        "\u001b[0;32m/Users/wes/anaconda/envs/ibis-blog/lib/python2.7/site-packages/datashape/typesets.pyc\u001b[0m in \u001b[0;36mmaxtype\u001b[0;34m(measure)\u001b[0m\n\u001b[1;32m    182\u001b[0m     \u001b[0;32mif\u001b[0m \u001b[0misoption\u001b[0m\u001b[0;34m:\u001b[0m\u001b[0;34m\u001b[0m\u001b[0m\n\u001b[1;32m    183\u001b[0m         \u001b[0mmeasure\u001b[0m \u001b[0;34m=\u001b[0m \u001b[0mmeasure\u001b[0m\u001b[0;34m.\u001b[0m\u001b[0mty\u001b[0m\u001b[0;34m\u001b[0m\u001b[0m\n\u001b[0;32m--> 184\u001b[0;31m     \u001b[0;32massert\u001b[0m \u001b[0mmatches_typeset\u001b[0m\u001b[0;34m(\u001b[0m\u001b[0mmeasure\u001b[0m\u001b[0;34m,\u001b[0m \u001b[0mscalar\u001b[0m\u001b[0;34m)\u001b[0m\u001b[0;34m,\u001b[0m \u001b[0;34m'measure must be numeric'\u001b[0m\u001b[0;34m\u001b[0m\u001b[0m\n\u001b[0m\u001b[1;32m    185\u001b[0m \u001b[0;34m\u001b[0m\u001b[0m\n\u001b[1;32m    186\u001b[0m     \u001b[0;32mif\u001b[0m \u001b[0mmeasure\u001b[0m \u001b[0;34m==\u001b[0m \u001b[0mbool_\u001b[0m\u001b[0;34m:\u001b[0m\u001b[0;34m\u001b[0m\u001b[0m\n",
        "\u001b[0;31mAssertionError\u001b[0m: measure must be numeric"
       ]
      }
     ],
     "prompt_number": 42
    },
    {
     "cell_type": "markdown",
     "metadata": {},
     "source": [
      "Let me try something else, like `sqrt`:"
     ]
    },
    {
     "cell_type": "code",
     "collapsed": false,
     "input": [
      "expr = bzfunc.sqrt(t.v3)\n",
      "expr.dshape"
     ],
     "language": "python",
     "metadata": {},
     "outputs": [
      {
       "metadata": {},
       "output_type": "pyout",
       "prompt_number": 43,
       "text": [
        "dshape(\"var * float64\")"
       ]
      }
     ],
     "prompt_number": 43
    },
    {
     "cell_type": "markdown",
     "metadata": {},
     "source": [
      "So that's not good either. I couldn't find a `round` function. Let me try adding a double to a string:"
     ]
    },
    {
     "cell_type": "code",
     "collapsed": false,
     "input": [
      "expr = t.v1 + t.v3\n",
      "expr"
     ],
     "language": "python",
     "metadata": {},
     "outputs": [
      {
       "html": [
        "hamster.v1 + hamster.v3"
       ],
       "metadata": {},
       "output_type": "pyout",
       "prompt_number": 44,
       "text": [
        "hamster.v1 + hamster.v3"
       ]
      }
     ],
     "prompt_number": 44
    },
    {
     "cell_type": "markdown",
     "metadata": {},
     "source": [
      "I don't think that should work either. Also:"
     ]
    },
    {
     "cell_type": "code",
     "collapsed": false,
     "input": [
      "expr.dshape"
     ],
     "language": "python",
     "metadata": {},
     "outputs": [
      {
       "metadata": {},
       "output_type": "pyout",
       "prompt_number": 45,
       "text": [
        "dshape(\"var * object\")"
       ]
      }
     ],
     "prompt_number": 45
    },
    {
     "cell_type": "markdown",
     "metadata": {},
     "source": [
      "Invalid table-level expressions are also not problematic at all:"
     ]
    },
    {
     "cell_type": "code",
     "collapsed": false,
     "input": [
      "expr = t[t.v3 > 5]"
     ],
     "language": "python",
     "metadata": {},
     "outputs": [],
     "prompt_number": 46
    },
    {
     "cell_type": "markdown",
     "metadata": {},
     "source": [
      "I also find the spread of functionality between `blaze.expr.functions` and instance methods to conflict with my sensibilities (which are admittedly highly subjective and pandas-influenced). For example, a float scalar object has some functions but others are found elsewhere."
     ]
    },
    {
     "cell_type": "code",
     "collapsed": false,
     "input": [
      "expr = bzfunc.sum(t.v1)\n",
      "print(expr.dshape)\n",
      "[x for x in dir(expr) if not x.startswith('_')]"
     ],
     "language": "python",
     "metadata": {},
     "outputs": [
      {
       "output_type": "stream",
       "stream": "stdout",
       "text": [
        "float64\n"
       ]
      },
      {
       "metadata": {},
       "output_type": "pyout",
       "prompt_number": 47,
       "text": [
        "['apply',\n",
        " 'axis',\n",
        " 'coerce',\n",
        " 'dshape',\n",
        " 'fields',\n",
        " 'isidentical',\n",
        " 'isnan',\n",
        " 'keepdims',\n",
        " 'label',\n",
        " 'map',\n",
        " 'relabel',\n",
        " 'schema',\n",
        " 'symbol',\n",
        " 'truncate',\n",
        " 'utcfromtimestamp']"
       ]
      }
     ],
     "prompt_number": 47
    },
    {
     "cell_type": "markdown",
     "metadata": {},
     "source": [
      "It's really just a difference in taste, but I prefer to have all my valid functions available as instance methods so that I can compose function chains more easily as seen above.\n",
      "\n",
      "I wanted to try to reproduce examples on top of SQLite from my [last blog post](http://blog.ibis-project.org/sqlite-crunchbase-quickstart/) but I found too much missing functionality, to name a couple specific things:\n",
      "\n",
      "* case statements / if-else expressions. This also makes `bucket` not possible to implement\n",
      "* `fillna` function\n",
      "\n",
      "Also, the way that joins work in Blaze is very un-SQL like (replicates pandas, in essence). This makes many SQL queries with joins hard to port. Check out the [Ibis tutorial](http://docs.ibis-project.org/tutorial.html) for more on that."
     ]
    }
   ],
   "metadata": {}
  }
 ]
}