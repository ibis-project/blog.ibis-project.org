{
 "metadata": {
  "name": ""
 },
 "nbformat": 3,
 "nbformat_minor": 0,
 "worksheets": [
  {
   "cells": [
    {
     "cell_type": "markdown",
     "metadata": {},
     "source": [
      "## Kudu overview\n",
      "\n",
      "Kudu was designed for the Hadoop ecosystem in part to simplify architectures involving very fast-arriving and fast-changing data that needs to be immediately available for analytical queries. In the past, complex architectures were devised using the fast [Parquet](https://parquet.apache.org/) columnar format stored in HDFS in conjunction with [HBase](https://hbase.apache.org/) (for new data, but very slow for analytics), but there were numerous drawbacks that made a purpose-built column-oriented storage engine desirable. For example, while Parquet is extremely fast for analytics, data can only be appended to a dataset and not deleted or updated.\n",
      "\n",
      "You can read much more about Kudu in Todd Lipcon's [recent slide deck](http://www.slideshare.net/cloudera/kudu-new-hadoop-storage-for-fast-analytics-on-fast-data) and in an [website overview](http://getkudu.io/overview.html). \n",
      "\n",
      "ZoomData put together a [cool demo](https://www.youtube.com/watch?v=ck_kRb6qLKE) showing a real time analytics dashboard powered by Impala and Kudu.\n",
      "\n",
      "For Python users, here are the key details:\n",
      "\n",
      "* Kudu has a SQL-like tabular data model; table columns are typed, and columns can be added and remove from tables. A Kudu cluster can store any number of tables. \n",
      "* Tables must have one or more *primary keys*. Like SQL databases, these will impact the performance of retrieving individual records.\n",
      "* Data is stored column-oriented, and individual table columns can be read (or *scanned*) very fast.\n",
      "* You can mutate a table by adding, deleting, or updating rows.\n",
      "* Data can be selected by indicating a number of conditions or *predicates* that must hold true\n",
      "* Kudu does not perform analytics: its job is to manage tabular data and serve it to compute engines as fast as possible.\n",
      "\n",
      "Kudu is not coupled to any particular compute engine. Any system that can use its C++ or Java clients can use it. There are a few compute system integrations built or in progress:\n",
      "\n",
      "* [**Apache Impala (incubating)**](http://getkudu.io/docs/kudu_impala_integration.html)\n",
      "* [**Apache Spark**](https://issues.cloudera.org/browse/KUDU-1214): Still in active development\n",
      "* [**Apache Drill**](https://github.com/dremio/drill-storage-kudu): Built during the recent Drill-Kudu hackathon\n",
      "\n",
      "\n",
      "## Basic Kudu use in Python\n",
      "\n",
      "Let's take our first steps in Python. I've booted up the Kudu Quickstart VM (for VirtualBox) that you can download from the Kudu website. I've installed the Kudu Python client and now import it and connect to the Kudu master in the VM:"
     ]
    },
    {
     "cell_type": "code",
     "collapsed": false,
     "input": [
      "import kudu\n",
      "client = kudu.connect('quickstart.cloudera', 7051)"
     ],
     "language": "python",
     "metadata": {},
     "outputs": [],
     "prompt_number": 1
    },
    {
     "cell_type": "markdown",
     "metadata": {},
     "source": [
      "Since this is a brand new cluster, there are no tables created yet:"
     ]
    },
    {
     "cell_type": "code",
     "collapsed": false,
     "input": [
      "client.list_tables()"
     ],
     "language": "python",
     "metadata": {},
     "outputs": [
      {
       "metadata": {},
       "output_type": "pyout",
       "prompt_number": 2,
       "text": [
        "[]"
       ]
      }
     ],
     "prompt_number": 2
    },
    {
     "cell_type": "markdown",
     "metadata": {},
     "source": [
      "To create one, we first create a schema and then create the table:"
     ]
    },
    {
     "cell_type": "code",
     "collapsed": false,
     "input": [
      "builder = kudu.schema_builder()\n",
      "builder.add_column('id', kudu.int64, nullable=False)\n",
      "builder.add_column('item', kudu.string)\n",
      "builder.add_column('price', kudu.double)\n",
      "\n",
      "builder.set_primary_keys(['id'])\n",
      "\n",
      "schema = builder.build()\n",
      "schema"
     ],
     "language": "python",
     "metadata": {},
     "outputs": [
      {
       "metadata": {},
       "output_type": "pyout",
       "prompt_number": 3,
       "text": [
        "kudu.Schema {  \n",
        "  id     int64(nullable=False) PRIMARY KEY\n",
        "  item   string(nullable=True)\n",
        "  price  double(nullable=True)\n",
        "}"
       ]
      }
     ],
     "prompt_number": 3
    },
    {
     "cell_type": "code",
     "collapsed": false,
     "input": [
      "if client.table_exists('purchases'):\n",
      "    client.delete_table('purchases')\n",
      "\n",
      "client.create_table('purchases', schema)\n",
      "client.list_tables()"
     ],
     "language": "python",
     "metadata": {},
     "outputs": [
      {
       "metadata": {},
       "output_type": "pyout",
       "prompt_number": 4,
       "text": [
        "['purchases']"
       ]
      }
     ],
     "prompt_number": 4
    },
    {
     "cell_type": "markdown",
     "metadata": {},
     "source": [
      "Now, we can get a handle for this new table and see its schema:"
     ]
    },
    {
     "cell_type": "code",
     "collapsed": false,
     "input": [
      "purchases = client.table('purchases')\n",
      "purchases"
     ],
     "language": "python",
     "metadata": {},
     "outputs": [
      {
       "metadata": {},
       "output_type": "pyout",
       "prompt_number": 5,
       "text": [
        "<kudu.client.Table at 0x1037fc8f0>"
       ]
      }
     ],
     "prompt_number": 5
    },
    {
     "cell_type": "code",
     "collapsed": false,
     "input": [
      "purchases.schema"
     ],
     "language": "python",
     "metadata": {},
     "outputs": [
      {
       "metadata": {},
       "output_type": "pyout",
       "prompt_number": 6,
       "text": [
        "kudu.Schema {  \n",
        "  id     int64(nullable=False) PRIMARY KEY\n",
        "  item   string(nullable=True)\n",
        "  price  double(nullable=True)\n",
        "}"
       ]
      }
     ],
     "prompt_number": 6
    },
    {
     "cell_type": "markdown",
     "metadata": {},
     "source": [
      "Now, let's insert some data:"
     ]
    },
    {
     "cell_type": "code",
     "collapsed": false,
     "input": [
      "data = [\n",
      "    (1, 'spam', 2.49),\n",
      "    (2, 'eggs', 1.25),\n",
      "    (3, 'coffee', 2.35),\n",
      "    (4, 'spam', 2.00),\n",
      "    (5, 'eggs', 2.49),\n",
      "    (6, 'coffee', 2.75),\n",
      "    (7, 'eggs', 2.75),\n",
      "    (8, 'coffee', 1.95),\n",
      "    (9, 'spam', 3.00),\n",
      "    (10, 'eggs', 2.25),\n",
      "    (11, 'eggs', 2.00),\n",
      "    (12, 'coffee', 2.35)\n",
      "]"
     ],
     "language": "python",
     "metadata": {},
     "outputs": [],
     "prompt_number": 7
    },
    {
     "cell_type": "markdown",
     "metadata": {},
     "source": [
      "To add, change, or remove data from a table, you must create a *session* to group the operations:"
     ]
    },
    {
     "cell_type": "code",
     "collapsed": false,
     "input": [
      "session = client.new_session()"
     ],
     "language": "python",
     "metadata": {},
     "outputs": [],
     "prompt_number": 8
    },
    {
     "cell_type": "markdown",
     "metadata": {},
     "source": [
      "Now, you create insert operations and add them to the session and call its `flush` method:"
     ]
    },
    {
     "cell_type": "code",
     "collapsed": false,
     "input": [
      "for _id, _item, _price in data:\n",
      "    op = purchases.new_insert()\n",
      "    op['id'] = _id\n",
      "    op['item'] = _item\n",
      "    op['price'] = _price\n",
      "    session.apply(op)\n",
      "    \n",
      "session.flush()"
     ],
     "language": "python",
     "metadata": {},
     "outputs": [],
     "prompt_number": 9
    },
    {
     "cell_type": "markdown",
     "metadata": {},
     "source": [
      "Now, suppose we wanted to select some data from the table. To do this, we create a *scanner* for the table in question:"
     ]
    },
    {
     "cell_type": "code",
     "collapsed": false,
     "input": [
      "scanner = purchases.scanner()"
     ],
     "language": "python",
     "metadata": {},
     "outputs": [],
     "prompt_number": 10
    },
    {
     "cell_type": "markdown",
     "metadata": {},
     "source": [
      "To read all of the data out, you *open* the scanner and call one of its read methods:"
     ]
    },
    {
     "cell_type": "code",
     "collapsed": false,
     "input": [
      "scanner.open()\n",
      "scanner.read_all_tuples()"
     ],
     "language": "python",
     "metadata": {},
     "outputs": [
      {
       "metadata": {},
       "output_type": "pyout",
       "prompt_number": 11,
       "text": [
        "[(1, 'spam', 2.49),\n",
        " (2, 'eggs', 1.25),\n",
        " (3, 'coffee', 2.35),\n",
        " (4, 'spam', 2.0),\n",
        " (5, 'eggs', 2.49),\n",
        " (6, 'coffee', 2.75),\n",
        " (7, 'eggs', 2.75),\n",
        " (8, 'coffee', 1.95),\n",
        " (9, 'spam', 3.0),\n",
        " (10, 'eggs', 2.25),\n",
        " (11, 'eggs', 2.0),\n",
        " (12, 'coffee', 2.35)]"
       ]
      }
     ],
     "prompt_number": 11
    },
    {
     "cell_type": "markdown",
     "metadata": {},
     "source": [
      "To only read a particular subset of data, you add *predicates* to the scanner:"
     ]
    },
    {
     "cell_type": "code",
     "collapsed": false,
     "input": [
      "scanner = purchases.scanner()\n",
      "scanner.add_predicate(purchases['item'] == 'spam')\n",
      "scanner.open()\n",
      "scanner.read_all_tuples()"
     ],
     "language": "python",
     "metadata": {},
     "outputs": [
      {
       "metadata": {},
       "output_type": "pyout",
       "prompt_number": 12,
       "text": [
        "[(1, 'spam', 2.49), (4, 'spam', 2.0), (9, 'spam', 3.0)]"
       ]
      }
     ],
     "prompt_number": 12
    },
    {
     "cell_type": "code",
     "collapsed": false,
     "input": [
      "scanner = purchases.scanner()\n",
      "id_col = purchases['id']\n",
      "scanner.add_predicates([id_col >= 5, id_col <= 10])\n",
      "scanner.open()\n",
      "scanner.read_all_tuples()"
     ],
     "language": "python",
     "metadata": {},
     "outputs": [
      {
       "metadata": {},
       "output_type": "pyout",
       "prompt_number": 13,
       "text": [
        "[(5, 'eggs', 2.49),\n",
        " (6, 'coffee', 2.75),\n",
        " (7, 'eggs', 2.75),\n",
        " (8, 'coffee', 1.95),\n",
        " (9, 'spam', 3.0),\n",
        " (10, 'eggs', 2.25)]"
       ]
      }
     ],
     "prompt_number": 13
    },
    {
     "cell_type": "markdown",
     "metadata": {},
     "source": [
      "That's all we need to know for now. There's lots more to know about Kudu and things that can be added to the Python interface, such as:\n",
      "\n",
      "* Native pandas DataFrame read/write capability\n",
      "* Hash and range partition configuration"
     ]
    },
    {
     "cell_type": "markdown",
     "metadata": {},
     "source": [
      "## Querying existing Kudu tables with Ibis and Impala\n",
      "\n",
      "In the latest development version of Ibis, you can add Kudu to the mix when working with Impala. Let's take a look:"
     ]
    },
    {
     "cell_type": "code",
     "collapsed": false,
     "input": [
      "import ibis\n",
      "ibis.options.interactive = True\n",
      "\n",
      "host = 'quickstart.cloudera'\n",
      "\n",
      "hdfs = ibis.hdfs_connect(host, port=50070)\n",
      "ic = ibis.impala.connect(host, port=21050, hdfs_client=hdfs)"
     ],
     "language": "python",
     "metadata": {},
     "outputs": [],
     "prompt_number": 14
    },
    {
     "cell_type": "markdown",
     "metadata": {},
     "source": [
      "This Impala cluster is built with Kudu support, so I can connect my Ibis client to the Kudu master like so:"
     ]
    },
    {
     "cell_type": "code",
     "collapsed": false,
     "input": [
      "ic.kudu.connect(host, 7051)"
     ],
     "language": "python",
     "metadata": {},
     "outputs": [],
     "prompt_number": 15
    },
    {
     "cell_type": "markdown",
     "metadata": {},
     "source": [
      "Now, let's see about that data we just wrote:"
     ]
    },
    {
     "cell_type": "code",
     "collapsed": false,
     "input": [
      "ic.kudu.list_tables()"
     ],
     "language": "python",
     "metadata": {},
     "outputs": [
      {
       "metadata": {},
       "output_type": "pyout",
       "prompt_number": 16,
       "text": [
        "['purchases']"
       ]
      }
     ],
     "prompt_number": 16
    },
    {
     "cell_type": "markdown",
     "metadata": {},
     "source": [
      "The `table` method on `ic.kudu` automatically creates an Impala table whose metadata references the existing data in Kudu:"
     ]
    },
    {
     "cell_type": "code",
     "collapsed": false,
     "input": [
      "purchases = ic.kudu.table('purchases')"
     ],
     "language": "python",
     "metadata": {},
     "outputs": [],
     "prompt_number": 17
    },
    {
     "cell_type": "code",
     "collapsed": false,
     "input": [
      "purchases"
     ],
     "language": "python",
     "metadata": {},
     "outputs": [
      {
       "metadata": {},
       "output_type": "pyout",
       "prompt_number": 18,
       "text": [
        "    id    item  price\n",
        "0    1    spam   2.49\n",
        "1    2    eggs   1.25\n",
        "2    3  coffee   2.35\n",
        "3    4    spam   2.00\n",
        "4    5    eggs   2.49\n",
        "5    6  coffee   2.75\n",
        "6    7    eggs   2.75\n",
        "7    8  coffee   1.95\n",
        "8    9    spam   3.00\n",
        "9   10    eggs   2.25\n",
        "10  11    eggs   2.00\n",
        "11  12  coffee   2.35"
       ]
      }
     ],
     "prompt_number": 18
    },
    {
     "cell_type": "markdown",
     "metadata": {},
     "source": [
      "The result behaves just like any other Ibis table, such as those you might have used with HDFS or SQLite:"
     ]
    },
    {
     "cell_type": "code",
     "collapsed": false,
     "input": [
      "purchases[purchases.item == 'spam']"
     ],
     "language": "python",
     "metadata": {},
     "outputs": [
      {
       "metadata": {},
       "output_type": "pyout",
       "prompt_number": 19,
       "text": [
        "   id  item  price\n",
        "0   1  spam   2.49\n",
        "1   4  spam   2.00\n",
        "2   9  spam   3.00"
       ]
      }
     ],
     "prompt_number": 19
    },
    {
     "cell_type": "code",
     "collapsed": false,
     "input": [
      "purchases.group_by('item').price.mean()"
     ],
     "language": "python",
     "metadata": {},
     "outputs": [
      {
       "metadata": {},
       "output_type": "pyout",
       "prompt_number": 20,
       "text": [
        "     item  mean(price)\n",
        "0    spam     2.496667\n",
        "1  coffee     2.350000\n",
        "2    eggs     2.148000"
       ]
      }
     ],
     "prompt_number": 20
    },
    {
     "cell_type": "markdown",
     "metadata": {},
     "source": [
      "You can issue `SELECT`, `INSERT`, `DELETE`, and `UPDATE` queries on data in Kudu tables via Impala, but for now only `SELECT` and `INSERT` operations are available from Ibis. "
     ]
    },
    {
     "cell_type": "markdown",
     "metadata": {},
     "source": [
      "## Creating new Kudu-backed Impala tables\n",
      "\n",
      "The Impala client's Kudu interface has a method `create_table` which enables more flexible Impala table creation with data stored in Kudu. This includes:\n",
      "\n",
      "* Creating empty tables with a particular schema\n",
      "* Creating tables from an Ibis table expression (i.e. a \"CTAS\" in database speak)\n",
      "* Creating tables from pandas DataFrame objects\n",
      "\n",
      "Let's look at a couple examples.\n",
      "\n",
      "First, I'll create an empty Kudu-backed table:"
     ]
    },
    {
     "cell_type": "code",
     "collapsed": false,
     "input": [
      "schema = ibis.schema([('foo', 'int32'),\n",
      "                      ('bar', 'string'),\n",
      "                      ('baz', 'double')])\n",
      "\n",
      "if ic.exists_database('kudu_tables'):\n",
      "    ic.drop_database('kudu_tables', force=True)\n",
      "\n",
      "ic.create_database('kudu_tables')\n",
      "impala_name = 'example1'\n",
      "kudu_name = 'example1-kudu-table'\n",
      "ic.kudu.create_table(impala_name, kudu_name, schema=schema,\n",
      "                     primary_keys=['foo'],\n",
      "                     database='kudu_tables')\n",
      "\n",
      "db = ic.database('kudu_tables')"
     ],
     "language": "python",
     "metadata": {},
     "outputs": [],
     "prompt_number": 21
    },
    {
     "cell_type": "code",
     "collapsed": false,
     "input": [
      "impala_table = db.table(impala_name)\n",
      "impala_table.schema()"
     ],
     "language": "python",
     "metadata": {},
     "outputs": [
      {
       "metadata": {},
       "output_type": "pyout",
       "prompt_number": 22,
       "text": [
        "ibis.Schema {  \n",
        "  foo  int32\n",
        "  bar  string\n",
        "  baz  double\n",
        "}"
       ]
      }
     ],
     "prompt_number": 22
    },
    {
     "cell_type": "markdown",
     "metadata": {},
     "source": [
      "Let's look in Kudu!"
     ]
    },
    {
     "cell_type": "code",
     "collapsed": false,
     "input": [
      "client.list_tables()"
     ],
     "language": "python",
     "metadata": {},
     "outputs": [
      {
       "metadata": {},
       "output_type": "pyout",
       "prompt_number": 23,
       "text": [
        "['purchases', 'example1-kudu-table']"
       ]
      }
     ],
     "prompt_number": 23
    },
    {
     "cell_type": "code",
     "collapsed": false,
     "input": [
      "example1 = client.table(kudu_name)"
     ],
     "language": "python",
     "metadata": {},
     "outputs": [],
     "prompt_number": 24
    },
    {
     "cell_type": "code",
     "collapsed": false,
     "input": [
      "example1.schema"
     ],
     "language": "python",
     "metadata": {},
     "outputs": [
      {
       "metadata": {},
       "output_type": "pyout",
       "prompt_number": 25,
       "text": [
        "kudu.Schema {  \n",
        "  foo  int32(nullable=False) PRIMARY KEY\n",
        "  bar  string(nullable=True)\n",
        "  baz  double(nullable=True)\n",
        "}"
       ]
      }
     ],
     "prompt_number": 25
    },
    {
     "cell_type": "markdown",
     "metadata": {},
     "source": [
      "Note that Impala has neither the notion of primary keys nor non-nullable fields, but this metadata can inform query planning.\n",
      "\n",
      "Now, I'll create a table by inserting a subset of the `purchases` table:"
     ]
    },
    {
     "cell_type": "code",
     "collapsed": false,
     "input": [
      "expr = purchases[purchases.item == 'spam']\n",
      "\n",
      "ic.kudu.create_table('example2', 'example2-kudu', obj=expr,\n",
      "                     primary_keys=['id'],\n",
      "                     database='kudu_tables')"
     ],
     "language": "python",
     "metadata": {},
     "outputs": [],
     "prompt_number": 26
    },
    {
     "cell_type": "code",
     "collapsed": false,
     "input": [
      "db.example2"
     ],
     "language": "python",
     "metadata": {},
     "outputs": [
      {
       "metadata": {},
       "output_type": "pyout",
       "prompt_number": 27,
       "text": [
        "   id  item  price\n",
        "0   1  spam   2.49\n",
        "1   4  spam   2.00\n",
        "2   9  spam   3.00"
       ]
      }
     ],
     "prompt_number": 27
    },
    {
     "cell_type": "markdown",
     "metadata": {},
     "source": [
      "We can look directly in Kudu to see the data that was inserted."
     ]
    },
    {
     "cell_type": "code",
     "collapsed": false,
     "input": [
      "example2_data = client.table('example2-kudu')\n",
      "scanner = example2_data.scanner()\n",
      "scanner.open()\n",
      "scanner.read_all_tuples()"
     ],
     "language": "python",
     "metadata": {},
     "outputs": [
      {
       "metadata": {},
       "output_type": "pyout",
       "prompt_number": 28,
       "text": [
        "[(1, 'spam', 2.49), (4, 'spam', 2.0), (9, 'spam', 3.0)]"
       ]
      }
     ],
     "prompt_number": 28
    },
    {
     "cell_type": "markdown",
     "metadata": {},
     "source": [
      "## In the context of the \"Great Decoupling\""
     ]
    },
    {
     "cell_type": "markdown",
     "metadata": {},
     "source": [
      "Kudu's \"bring your own SQL\" design is well in line with the broader decoupling and commoditization of open source storage and compute systems that has been going on the last 10 years. It is the responsibility of productivity-centric programming interfaces like Ibis (which you can think of as a \"UI for developers\") to enhance interoperability and hide as much complexity from the user as possible.\n",
      "\n",
      "<center><img src=\"../images/decoupling-kudu-ibis-impala.png\" width=\"50%\"></img></center>"
     ]
    },
    {
     "cell_type": "markdown",
     "metadata": {},
     "source": [
      "## Conclusions\n",
      "\n",
      "Kudu is an exciting new open source storage technology which, when combined with a high performance compute engine like Impala, enables scalable high performance analytics on fast-changing data sets. Having this functionality seamlessly available to Python programmers using Ibis will make it much easier to develop end-to-end applications involving big data analytics. Most importantly, the code that you write will be largely the same whether you have 1000 or 100 billion rows of data. \n",
      "\n",
      "I've been working to build out the Kudu Python interface so that it's easier for Python users to use the project and participate in the development community. If you see something here that interests you, we'd love to have you involved."
     ]
    }
   ],
   "metadata": {}
  }
 ]
}