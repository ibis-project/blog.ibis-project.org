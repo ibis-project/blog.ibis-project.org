{
 "metadata": {
  "name": ""
 },
 "nbformat": 3,
 "nbformat_minor": 0,
 "worksheets": [
  {
   "cells": [
    {
     "cell_type": "markdown",
     "metadata": {},
     "source": [
      "To get started, import `ibis`, set it to interactive mode, and open the SQLite file you just downloaded like so:"
     ]
    },
    {
     "cell_type": "code",
     "collapsed": false,
     "input": [
      "import ibis\n",
      "ibis.options.interactive = True\n",
      "\n",
      "con = ibis.sqlite.connect('crunchbase.db')"
     ],
     "language": "python",
     "metadata": {},
     "outputs": [],
     "prompt_number": 1
    },
    {
     "cell_type": "markdown",
     "metadata": {},
     "source": [
      "The `list_tables` method shows you what tables are in the file:"
     ]
    },
    {
     "cell_type": "code",
     "collapsed": false,
     "input": [
      "con.list_tables()"
     ],
     "language": "python",
     "metadata": {},
     "outputs": [
      {
       "metadata": {},
       "output_type": "pyout",
       "prompt_number": 2,
       "text": [
        "[u'acquisitions', u'companies', u'investments', u'rounds']"
       ]
      }
     ],
     "prompt_number": 2
    },
    {
     "cell_type": "markdown",
     "metadata": {},
     "source": [
      "Let's look at the `rounds` table:"
     ]
    },
    {
     "cell_type": "code",
     "collapsed": false,
     "input": [
      "rounds = con.table('rounds')\n",
      "rounds.info()"
     ],
     "language": "python",
     "metadata": {},
     "outputs": [
      {
       "output_type": "stream",
       "stream": "stdout",
       "text": [
        "Table rows: 87161\n",
        "\n",
        "Column                   Type    Non-null #\n",
        "------                   ----    ----------\n",
        "company_permalink        string  87161     \n",
        "company_name             string  87161     \n",
        "company_category_list    string  83464     \n",
        "company_market           string  80523     \n",
        "company_country_code     string  81291     \n",
        "company_state_code       string  59296     \n",
        "company_region           string  81016     \n",
        "company_city             string  80208     \n",
        "funding_round_permalink  string  87161     \n",
        "funding_round_type       string  87161     \n",
        "funding_round_code       string  23648     \n",
        "funded_at                string  87161     \n",
        "funded_month             string  87147     \n",
        "funded_quarter           string  87147     \n",
        "funded_year              int64   87147     \n",
        "raised_amount_usd        double  73406     "
       ]
      }
     ],
     "prompt_number": 3
    },
    {
     "cell_type": "markdown",
     "metadata": {},
     "source": [
      "We can start to explore this data set using pandas-like syntax:"
     ]
    },
    {
     "cell_type": "code",
     "collapsed": false,
     "input": [
      "rounds.funding_round_type.value_counts()"
     ],
     "language": "python",
     "metadata": {},
     "outputs": [
      {
       "metadata": {},
       "output_type": "pyout",
       "prompt_number": 4,
       "text": [
        "       funding_round_type  count\n",
        "0                   angel   4602\n",
        "1        convertible_note    838\n",
        "2          debt_financing   5869\n",
        "3     equity_crowdfunding   2401\n",
        "4                   grant   1523\n",
        "5   non_equity_assistance     69\n",
        "6           post_ipo_debt     92\n",
        "7         post_ipo_equity    425\n",
        "8          private_equity   1864\n",
        "9    product_crowdfunding    241\n",
        "10       secondary_market     61\n",
        "11                   seed  22053\n",
        "12            undisclosed   4128\n",
        "13                venture  42995"
       ]
      }
     ],
     "prompt_number": 4
    },
    {
     "cell_type": "markdown",
     "metadata": {},
     "source": [
      "There's too little space here to give a comprehensive tutorial on the Ibis DSL, but it's designed for composability and operation chaining even more so than pandas.\n",
      "\n",
      "For example, we could find out how many acquisitions had a known price as follows"
     ]
    },
    {
     "cell_type": "code",
     "collapsed": false,
     "input": [
      "acquisitions = con.table('acquisitions')\n",
      "expr = (acquisitions.price_amount\n",
      "        .isnull()\n",
      "        .name('has_price')\n",
      "        .value_counts())\n",
      "expr"
     ],
     "language": "python",
     "metadata": {},
     "outputs": [
      {
       "metadata": {},
       "output_type": "pyout",
       "prompt_number": 5,
       "text": [
        "   has_price  count\n",
        "0          0   3816\n",
        "1          1  51424"
       ]
      }
     ],
     "prompt_number": 5
    },
    {
     "cell_type": "markdown",
     "metadata": {},
     "source": [
      "If you call the `execute` method on the expression, you'll get a pandas object back:"
     ]
    },
    {
     "cell_type": "code",
     "collapsed": false,
     "input": [
      "df = expr.execute()\n",
      "df"
     ],
     "language": "python",
     "metadata": {},
     "outputs": [
      {
       "html": [
        "<div style=\"max-width:1500px;overflow:auto;\">\n",
        "<table border=\"1\" class=\"dataframe\">\n",
        "  <thead>\n",
        "    <tr style=\"text-align: right;\">\n",
        "      <th></th>\n",
        "      <th>has_price</th>\n",
        "      <th>count</th>\n",
        "    </tr>\n",
        "  </thead>\n",
        "  <tbody>\n",
        "    <tr>\n",
        "      <th>0</th>\n",
        "      <td>0</td>\n",
        "      <td>3816</td>\n",
        "    </tr>\n",
        "    <tr>\n",
        "      <th>1</th>\n",
        "      <td>1</td>\n",
        "      <td>51424</td>\n",
        "    </tr>\n",
        "  </tbody>\n",
        "</table>\n",
        "</div>"
       ],
       "metadata": {},
       "output_type": "pyout",
       "prompt_number": 6,
       "text": [
        "   has_price  count\n",
        "0          0   3816\n",
        "1          1  51424"
       ]
      }
     ],
     "prompt_number": 6
    },
    {
     "cell_type": "markdown",
     "metadata": {},
     "source": [
      "Ibis has three basic data types:\n",
      "\n",
      "* Tables\n",
      "* Arrays\n",
      "* Scalars\n",
      "\n",
      "Based on the type of the expression, you'll get back a pandas or Python object that is an in-memory counterpart "
     ]
    },
    {
     "cell_type": "code",
     "collapsed": false,
     "input": [
      "type(expr)"
     ],
     "language": "python",
     "metadata": {},
     "outputs": [
      {
       "metadata": {},
       "output_type": "pyout",
       "prompt_number": 7,
       "text": [
        "ibis.expr.types.TableExpr"
       ]
      }
     ],
     "prompt_number": 7
    },
    {
     "cell_type": "code",
     "collapsed": false,
     "input": [
      "companies = con.table('companies')\n",
      "\n",
      "expr = companies.funding_total_usd.mean()\n",
      "type(expr)"
     ],
     "language": "python",
     "metadata": {},
     "outputs": [
      {
       "metadata": {},
       "output_type": "pyout",
       "prompt_number": 8,
       "text": [
        "ibis.expr.types.DoubleScalar"
       ]
      }
     ],
     "prompt_number": 8
    },
    {
     "cell_type": "code",
     "collapsed": false,
     "input": [
      "expr.execute()"
     ],
     "language": "python",
     "metadata": {},
     "outputs": [
      {
       "metadata": {},
       "output_type": "pyout",
       "prompt_number": 9,
       "text": [
        "16198405.416388474"
       ]
      }
     ],
     "prompt_number": 9
    },
    {
     "cell_type": "markdown",
     "metadata": {},
     "source": [
      "## A few funding metrics\n",
      "\n",
      "Let's suppose we were interested in looking at the number of coded (Series A, Series B, etc.) venture investments in the dataset for each year.\n",
      "\n",
      "First, a technical detail. SQLite stores all date and time values as strings, but Ibis lets you cast strings to timestamps, handling the rest of the details for you"
     ]
    },
    {
     "cell_type": "code",
     "collapsed": false,
     "input": [
      "funded_at = rounds.funded_at.cast('timestamp')\n",
      "funded_at.year().value_counts()"
     ],
     "language": "python",
     "metadata": {},
     "outputs": [
      {
       "metadata": {},
       "output_type": "pyout",
       "prompt_number": 10,
       "text": [
        "    unnamed  count\n",
        "0         1      3\n",
        "1         7      1\n",
        "2        11      1\n",
        "3        20      2\n",
        "4        29      1\n",
        "5        30      1\n",
        "6       201      1\n",
        "7       203      1\n",
        "8       214      1\n",
        "9      1921      1\n",
        "10     1960      3\n",
        "11     1973      1\n",
        "12     1974      2\n",
        "13     1979      1\n",
        "14     1982      3\n",
        "15     1983      1\n",
        "16     1984      4\n",
        "17     1985      6\n",
        "18     1986      4\n",
        "19     1987      6\n",
        "20     1988      2\n",
        "21     1989      4\n",
        "22     1990     14\n",
        "23     1991     10\n",
        "24     1992     12\n",
        "25     1993     15\n",
        "26     1994     15\n",
        "27     1995     21\n",
        "28     1996     32\n",
        "29     1997     30\n",
        "30     1998     62\n",
        "31     1999    178\n",
        "32     2000    267\n",
        "33     2001    200\n",
        "34     2002    207\n",
        "35     2003    271\n",
        "36     2004    434\n",
        "37     2005   1762\n",
        "38     2006   2663\n",
        "39     2007   3562\n",
        "40     2008   4257\n",
        "41     2009   6553\n",
        "42     2010   8692\n",
        "43     2011  10550\n",
        "44     2012  12648\n",
        "45     2013  16194\n",
        "46     2014  17670\n",
        "47     2015    790\n",
        "48     2104      1\n",
        "49     2105      1"
       ]
      }
     ],
     "prompt_number": 10
    },
    {
     "cell_type": "markdown",
     "metadata": {},
     "source": [
      "This looks like some bad data, so I'll restrict the analysis to 2000 to 2015. Also, there are NULL values in `funding_round_code`:"
     ]
    },
    {
     "cell_type": "code",
     "collapsed": false,
     "input": [
      "rounds.funding_round_code.value_counts()"
     ],
     "language": "python",
     "metadata": {},
     "outputs": [
      {
       "metadata": {},
       "output_type": "pyout",
       "prompt_number": 11,
       "text": [
        "  funding_round_code  count\n",
        "0               None  63513\n",
        "1                  A  11382\n",
        "2                  B   6548\n",
        "3                  C   3329\n",
        "4                  D   1530\n",
        "5                  E    608\n",
        "6                  F    201\n",
        "7                  G     45\n",
        "8                  H      5"
       ]
      }
     ],
     "prompt_number": 11
    },
    {
     "cell_type": "code",
     "collapsed": false,
     "input": [
      "year = funded_at.year().name('year')\n",
      "\n",
      "expr = (rounds[(rounds.funding_round_type == 'venture') &\n",
      "               year.between(2000, 2015) &\n",
      "               rounds.funding_round_code.notnull()]\n",
      "        .group_by([year, 'funding_round_code'])\n",
      "        .size())\n",
      "\n",
      "results = expr.execute()\n",
      "results[:10]"
     ],
     "language": "python",
     "metadata": {},
     "outputs": [
      {
       "html": [
        "<div style=\"max-width:1500px;overflow:auto;\">\n",
        "<table border=\"1\" class=\"dataframe\">\n",
        "  <thead>\n",
        "    <tr style=\"text-align: right;\">\n",
        "      <th></th>\n",
        "      <th>year</th>\n",
        "      <th>funding_round_code</th>\n",
        "      <th>count</th>\n",
        "    </tr>\n",
        "  </thead>\n",
        "  <tbody>\n",
        "    <tr>\n",
        "      <th>0</th>\n",
        "      <td>2000</td>\n",
        "      <td>A</td>\n",
        "      <td>79</td>\n",
        "    </tr>\n",
        "    <tr>\n",
        "      <th>1</th>\n",
        "      <td>2000</td>\n",
        "      <td>B</td>\n",
        "      <td>32</td>\n",
        "    </tr>\n",
        "    <tr>\n",
        "      <th>2</th>\n",
        "      <td>2000</td>\n",
        "      <td>C</td>\n",
        "      <td>10</td>\n",
        "    </tr>\n",
        "    <tr>\n",
        "      <th>3</th>\n",
        "      <td>2000</td>\n",
        "      <td>D</td>\n",
        "      <td>8</td>\n",
        "    </tr>\n",
        "    <tr>\n",
        "      <th>4</th>\n",
        "      <td>2000</td>\n",
        "      <td>E</td>\n",
        "      <td>2</td>\n",
        "    </tr>\n",
        "    <tr>\n",
        "      <th>5</th>\n",
        "      <td>2001</td>\n",
        "      <td>A</td>\n",
        "      <td>50</td>\n",
        "    </tr>\n",
        "    <tr>\n",
        "      <th>6</th>\n",
        "      <td>2001</td>\n",
        "      <td>B</td>\n",
        "      <td>30</td>\n",
        "    </tr>\n",
        "    <tr>\n",
        "      <th>7</th>\n",
        "      <td>2001</td>\n",
        "      <td>C</td>\n",
        "      <td>17</td>\n",
        "    </tr>\n",
        "    <tr>\n",
        "      <th>8</th>\n",
        "      <td>2001</td>\n",
        "      <td>D</td>\n",
        "      <td>4</td>\n",
        "    </tr>\n",
        "    <tr>\n",
        "      <th>9</th>\n",
        "      <td>2001</td>\n",
        "      <td>E</td>\n",
        "      <td>1</td>\n",
        "    </tr>\n",
        "  </tbody>\n",
        "</table>\n",
        "</div>"
       ],
       "metadata": {},
       "output_type": "pyout",
       "prompt_number": 12,
       "text": [
        "   year funding_round_code  count\n",
        "0  2000                  A     79\n",
        "1  2000                  B     32\n",
        "2  2000                  C     10\n",
        "3  2000                  D      8\n",
        "4  2000                  E      2\n",
        "5  2001                  A     50\n",
        "6  2001                  B     30\n",
        "7  2001                  C     17\n",
        "8  2001                  D      4\n",
        "9  2001                  E      1"
       ]
      }
     ],
     "prompt_number": 12
    },
    {
     "cell_type": "markdown",
     "metadata": {},
     "source": [
      "Since `results` is now a pandas DataFrame, it can be reshaped accordingly:"
     ]
    },
    {
     "cell_type": "code",
     "collapsed": false,
     "input": [
      "pivoted = (results.set_index(['year', 'funding_round_code'])\n",
      "           .unstack('funding_round_code')\n",
      "           .fillna(0))\n",
      "pivoted"
     ],
     "language": "python",
     "metadata": {},
     "outputs": [
      {
       "html": [
        "<div style=\"max-width:1500px;overflow:auto;\">\n",
        "<table border=\"1\" class=\"dataframe\">\n",
        "  <thead>\n",
        "    <tr>\n",
        "      <th></th>\n",
        "      <th colspan=\"8\" halign=\"left\">count</th>\n",
        "    </tr>\n",
        "    <tr>\n",
        "      <th>funding_round_code</th>\n",
        "      <th>A</th>\n",
        "      <th>B</th>\n",
        "      <th>C</th>\n",
        "      <th>D</th>\n",
        "      <th>E</th>\n",
        "      <th>F</th>\n",
        "      <th>G</th>\n",
        "      <th>H</th>\n",
        "    </tr>\n",
        "    <tr>\n",
        "      <th>year</th>\n",
        "      <th></th>\n",
        "      <th></th>\n",
        "      <th></th>\n",
        "      <th></th>\n",
        "      <th></th>\n",
        "      <th></th>\n",
        "      <th></th>\n",
        "      <th></th>\n",
        "    </tr>\n",
        "  </thead>\n",
        "  <tbody>\n",
        "    <tr>\n",
        "      <th>2000</th>\n",
        "      <td>79</td>\n",
        "      <td>32</td>\n",
        "      <td>10</td>\n",
        "      <td>8</td>\n",
        "      <td>2</td>\n",
        "      <td>0</td>\n",
        "      <td>0</td>\n",
        "      <td>0</td>\n",
        "    </tr>\n",
        "    <tr>\n",
        "      <th>2001</th>\n",
        "      <td>50</td>\n",
        "      <td>30</td>\n",
        "      <td>17</td>\n",
        "      <td>4</td>\n",
        "      <td>1</td>\n",
        "      <td>0</td>\n",
        "      <td>0</td>\n",
        "      <td>0</td>\n",
        "    </tr>\n",
        "    <tr>\n",
        "      <th>2002</th>\n",
        "      <td>35</td>\n",
        "      <td>39</td>\n",
        "      <td>25</td>\n",
        "      <td>5</td>\n",
        "      <td>2</td>\n",
        "      <td>2</td>\n",
        "      <td>0</td>\n",
        "      <td>0</td>\n",
        "    </tr>\n",
        "    <tr>\n",
        "      <th>2003</th>\n",
        "      <td>68</td>\n",
        "      <td>45</td>\n",
        "      <td>14</td>\n",
        "      <td>13</td>\n",
        "      <td>1</td>\n",
        "      <td>0</td>\n",
        "      <td>1</td>\n",
        "      <td>0</td>\n",
        "    </tr>\n",
        "    <tr>\n",
        "      <th>2004</th>\n",
        "      <td>146</td>\n",
        "      <td>76</td>\n",
        "      <td>32</td>\n",
        "      <td>15</td>\n",
        "      <td>3</td>\n",
        "      <td>1</td>\n",
        "      <td>0</td>\n",
        "      <td>0</td>\n",
        "    </tr>\n",
        "    <tr>\n",
        "      <th>2005</th>\n",
        "      <td>513</td>\n",
        "      <td>334</td>\n",
        "      <td>176</td>\n",
        "      <td>67</td>\n",
        "      <td>26</td>\n",
        "      <td>6</td>\n",
        "      <td>0</td>\n",
        "      <td>0</td>\n",
        "    </tr>\n",
        "    <tr>\n",
        "      <th>2006</th>\n",
        "      <td>717</td>\n",
        "      <td>465</td>\n",
        "      <td>226</td>\n",
        "      <td>91</td>\n",
        "      <td>35</td>\n",
        "      <td>7</td>\n",
        "      <td>1</td>\n",
        "      <td>0</td>\n",
        "    </tr>\n",
        "    <tr>\n",
        "      <th>2007</th>\n",
        "      <td>956</td>\n",
        "      <td>583</td>\n",
        "      <td>281</td>\n",
        "      <td>110</td>\n",
        "      <td>49</td>\n",
        "      <td>7</td>\n",
        "      <td>1</td>\n",
        "      <td>0</td>\n",
        "    </tr>\n",
        "    <tr>\n",
        "      <th>2008</th>\n",
        "      <td>979</td>\n",
        "      <td>653</td>\n",
        "      <td>308</td>\n",
        "      <td>120</td>\n",
        "      <td>54</td>\n",
        "      <td>17</td>\n",
        "      <td>1</td>\n",
        "      <td>0</td>\n",
        "    </tr>\n",
        "    <tr>\n",
        "      <th>2009</th>\n",
        "      <td>753</td>\n",
        "      <td>531</td>\n",
        "      <td>290</td>\n",
        "      <td>147</td>\n",
        "      <td>55</td>\n",
        "      <td>28</td>\n",
        "      <td>0</td>\n",
        "      <td>0</td>\n",
        "    </tr>\n",
        "    <tr>\n",
        "      <th>2010</th>\n",
        "      <td>1013</td>\n",
        "      <td>598</td>\n",
        "      <td>369</td>\n",
        "      <td>149</td>\n",
        "      <td>52</td>\n",
        "      <td>18</td>\n",
        "      <td>2</td>\n",
        "      <td>0</td>\n",
        "    </tr>\n",
        "    <tr>\n",
        "      <th>2011</th>\n",
        "      <td>1250</td>\n",
        "      <td>700</td>\n",
        "      <td>334</td>\n",
        "      <td>175</td>\n",
        "      <td>60</td>\n",
        "      <td>18</td>\n",
        "      <td>5</td>\n",
        "      <td>0</td>\n",
        "    </tr>\n",
        "    <tr>\n",
        "      <th>2012</th>\n",
        "      <td>1242</td>\n",
        "      <td>610</td>\n",
        "      <td>345</td>\n",
        "      <td>184</td>\n",
        "      <td>69</td>\n",
        "      <td>16</td>\n",
        "      <td>7</td>\n",
        "      <td>0</td>\n",
        "    </tr>\n",
        "    <tr>\n",
        "      <th>2013</th>\n",
        "      <td>1606</td>\n",
        "      <td>796</td>\n",
        "      <td>377</td>\n",
        "      <td>185</td>\n",
        "      <td>81</td>\n",
        "      <td>38</td>\n",
        "      <td>6</td>\n",
        "      <td>0</td>\n",
        "    </tr>\n",
        "    <tr>\n",
        "      <th>2014</th>\n",
        "      <td>1757</td>\n",
        "      <td>952</td>\n",
        "      <td>471</td>\n",
        "      <td>223</td>\n",
        "      <td>108</td>\n",
        "      <td>36</td>\n",
        "      <td>18</td>\n",
        "      <td>5</td>\n",
        "    </tr>\n",
        "    <tr>\n",
        "      <th>2015</th>\n",
        "      <td>88</td>\n",
        "      <td>71</td>\n",
        "      <td>34</td>\n",
        "      <td>28</td>\n",
        "      <td>8</td>\n",
        "      <td>5</td>\n",
        "      <td>3</td>\n",
        "      <td>0</td>\n",
        "    </tr>\n",
        "  </tbody>\n",
        "</table>\n",
        "</div>"
       ],
       "metadata": {},
       "output_type": "pyout",
       "prompt_number": 13,
       "text": [
        "                   count                               \n",
        "funding_round_code     A    B    C    D    E   F   G  H\n",
        "year                                                   \n",
        "2000                  79   32   10    8    2   0   0  0\n",
        "2001                  50   30   17    4    1   0   0  0\n",
        "2002                  35   39   25    5    2   2   0  0\n",
        "2003                  68   45   14   13    1   0   1  0\n",
        "2004                 146   76   32   15    3   1   0  0\n",
        "2005                 513  334  176   67   26   6   0  0\n",
        "2006                 717  465  226   91   35   7   1  0\n",
        "2007                 956  583  281  110   49   7   1  0\n",
        "2008                 979  653  308  120   54  17   1  0\n",
        "2009                 753  531  290  147   55  28   0  0\n",
        "2010                1013  598  369  149   52  18   2  0\n",
        "2011                1250  700  334  175   60  18   5  0\n",
        "2012                1242  610  345  184   69  16   7  0\n",
        "2013                1606  796  377  185   81  38   6  0\n",
        "2014                1757  952  471  223  108  36  18  5\n",
        "2015                  88   71   34   28    8   5   3  0"
       ]
      }
     ],
     "prompt_number": 13
    },
    {
     "cell_type": "markdown",
     "metadata": {},
     "source": [
      "Cool. Now let's look at total funding according to some arbitrary buckets. I'll use the `bucket` method which computes a discrete histogram according to bin edges you provide:"
     ]
    },
    {
     "cell_type": "code",
     "collapsed": false,
     "input": [
      "funding_buckets = [0, 1000000, 10000000, 50000000, 100000000, \n",
      "                   500000000, 1000000000]\n",
      "\n",
      "bucket = (companies\n",
      "          .funding_total_usd\n",
      "          .bucket(funding_buckets, include_over=True))\n",
      "bucket.value_counts()"
     ],
     "language": "python",
     "metadata": {},
     "outputs": [
      {
       "metadata": {},
       "output_type": "pyout",
       "prompt_number": 14,
       "text": [
        "   unnamed  count\n",
        "0      NaN  12055\n",
        "1        0  15965\n",
        "2        1  15754\n",
        "3        2   7839\n",
        "4        3   1532\n",
        "5        4   1022\n",
        "6        5     88\n",
        "7        6     37"
       ]
      }
     ],
     "prompt_number": 14
    },
    {
     "cell_type": "markdown",
     "metadata": {},
     "source": [
      "These are bucket numbers. I can provide names using the `label` method:"
     ]
    },
    {
     "cell_type": "code",
     "collapsed": false,
     "input": [
      "bucket_names = ['0 to 1m', '1m to 10m', '10m to 50m', \n",
      "                '50m to 100m', '100m to 500m',\n",
      "                '500m to 1b', 'Over 1b']\n",
      "\n",
      "counts = bucket.name('bucket').value_counts()\n",
      "labeled = counts.bucket.label(bucket_names)\n",
      "with_names = counts.mutate(bucket_name=labeled)\n",
      "with_names"
     ],
     "language": "python",
     "metadata": {},
     "outputs": [
      {
       "metadata": {},
       "output_type": "pyout",
       "prompt_number": 15,
       "text": [
        "   bucket  count   bucket_name\n",
        "0     NaN  12055          None\n",
        "1       0  15965       0 to 1m\n",
        "2       1  15754     1m to 10m\n",
        "3       2   7839    10m to 50m\n",
        "4       3   1532   50m to 100m\n",
        "5       4   1022  100m to 500m\n",
        "6       5     88    500m to 1b\n",
        "7       6     37       Over 1b"
       ]
      }
     ],
     "prompt_number": 15
    },
    {
     "cell_type": "markdown",
     "metadata": {},
     "source": [
      "If you were interested in statistics: other than the count, you can use `group_by` and `aggregate` to compute multiple group summaries:"
     ]
    },
    {
     "cell_type": "code",
     "collapsed": false,
     "input": [
      "metrics = (companies.group_by(bucket.name('bucket'))\n",
      "           .aggregate(count=companies.count(),\n",
      "                      total_funding=companies.funding_total_usd.sum())\n",
      "           .mutate(bucket_name=lambda x: x.bucket.label(bucket_names)))\n",
      "metrics"
     ],
     "language": "python",
     "metadata": {},
     "outputs": [
      {
       "metadata": {},
       "output_type": "pyout",
       "prompt_number": 16,
       "text": [
        "   bucket  count  total_funding   bucket_name\n",
        "0     NaN  12055            NaN          None\n",
        "1       0  15965   4.505177e+09       0 to 1m\n",
        "2       1  15754   5.712283e+10     1m to 10m\n",
        "3       2   7839   1.724166e+11    10m to 50m\n",
        "4       3   1532   1.054132e+11   50m to 100m\n",
        "5       4   1022   1.826600e+11  100m to 500m\n",
        "6       5     88   5.804196e+10    500m to 1b\n",
        "7       6     37   1.040123e+11       Over 1b"
       ]
      }
     ],
     "prompt_number": 16
    },
    {
     "cell_type": "markdown",
     "metadata": {},
     "source": [
      "I'll embellish this by looking at the operation status of companies founded 2010 onward"
     ]
    },
    {
     "cell_type": "code",
     "collapsed": false,
     "input": [
      "joined = (companies.mutate(bucket=bucket,\n",
      "                           status=companies.status.fillna('Unknown'))\n",
      "          [(companies.founded_at > '2010-01-01') |\n",
      "           companies.founded_at.isnull()]\n",
      "          .group_by(['bucket', 'status'])\n",
      "          .size()\n",
      "          .mutate(bucket_name=lambda x: (x.bucket.label(bucket_names)\n",
      "                                         .fillna('Unknown'))))\n",
      "\n",
      "table = joined.execute()\n",
      "\n",
      "table.set_index(['status', 'bucket', 'bucket_name'])['count'].unstack('status')"
     ],
     "language": "python",
     "metadata": {},
     "outputs": [
      {
       "html": [
        "<div style=\"max-width:1500px;overflow:auto;\">\n",
        "<table border=\"1\" class=\"dataframe\">\n",
        "  <thead>\n",
        "    <tr style=\"text-align: right;\">\n",
        "      <th></th>\n",
        "      <th>status</th>\n",
        "      <th>Unknown</th>\n",
        "      <th>acquired</th>\n",
        "      <th>closed</th>\n",
        "      <th>operating</th>\n",
        "    </tr>\n",
        "    <tr>\n",
        "      <th>bucket</th>\n",
        "      <th>bucket_name</th>\n",
        "      <th></th>\n",
        "      <th></th>\n",
        "      <th></th>\n",
        "      <th></th>\n",
        "    </tr>\n",
        "  </thead>\n",
        "  <tbody>\n",
        "    <tr>\n",
        "      <th>NaN</th>\n",
        "      <th>Unknown</th>\n",
        "      <td>3208</td>\n",
        "      <td>217</td>\n",
        "      <td>251</td>\n",
        "      <td>5731</td>\n",
        "    </tr>\n",
        "    <tr>\n",
        "      <th>0</th>\n",
        "      <th>0 to 1m</th>\n",
        "      <td>353</td>\n",
        "      <td>227</td>\n",
        "      <td>632</td>\n",
        "      <td>11195</td>\n",
        "    </tr>\n",
        "    <tr>\n",
        "      <th>1</th>\n",
        "      <th>1m to 10m</th>\n",
        "      <td>197</td>\n",
        "      <td>530</td>\n",
        "      <td>369</td>\n",
        "      <td>8166</td>\n",
        "    </tr>\n",
        "    <tr>\n",
        "      <th>2</th>\n",
        "      <th>10m to 50m</th>\n",
        "      <td>62</td>\n",
        "      <td>276</td>\n",
        "      <td>124</td>\n",
        "      <td>2572</td>\n",
        "    </tr>\n",
        "    <tr>\n",
        "      <th>3</th>\n",
        "      <th>50m to 100m</th>\n",
        "      <td>6</td>\n",
        "      <td>47</td>\n",
        "      <td>20</td>\n",
        "      <td>360</td>\n",
        "    </tr>\n",
        "    <tr>\n",
        "      <th>4</th>\n",
        "      <th>100m to 500m</th>\n",
        "      <td>16</td>\n",
        "      <td>14</td>\n",
        "      <td>11</td>\n",
        "      <td>255</td>\n",
        "    </tr>\n",
        "    <tr>\n",
        "      <th>5</th>\n",
        "      <th>500m to 1b</th>\n",
        "      <td>NaN</td>\n",
        "      <td>2</td>\n",
        "      <td>1</td>\n",
        "      <td>23</td>\n",
        "    </tr>\n",
        "    <tr>\n",
        "      <th>6</th>\n",
        "      <th>Over 1b</th>\n",
        "      <td>NaN</td>\n",
        "      <td>1</td>\n",
        "      <td>NaN</td>\n",
        "      <td>9</td>\n",
        "    </tr>\n",
        "  </tbody>\n",
        "</table>\n",
        "</div>"
       ],
       "metadata": {},
       "output_type": "pyout",
       "prompt_number": 17,
       "text": [
        "status               Unknown  acquired  closed  operating\n",
        "bucket bucket_name                                       \n",
        "NaN    Unknown          3208       217     251       5731\n",
        "0      0 to 1m           353       227     632      11195\n",
        "1      1m to 10m         197       530     369       8166\n",
        "2      10m to 50m         62       276     124       2572\n",
        "3      50m to 100m         6        47      20        360\n",
        "4      100m to 500m       16        14      11        255\n",
        "5      500m to 1b        NaN         2       1         23\n",
        "6      Over 1b           NaN         1     NaN          9"
       ]
      }
     ],
     "prompt_number": 17
    },
    {
     "cell_type": "markdown",
     "metadata": {},
     "source": [
      "To explain what all these methods are:\n",
      "\n",
      "* `mutate` adds columns to a table\n",
      "* `group_by` creates a grouped table expression that can be aggregated, windowed, or a few other actions\n",
      "* `.size()` is a shortcut for `.aggregate(companies.count())`\n",
      "* `fillna` replaces NULL values with the indicated fill value\n",
      "\n",
      "To learn more, check out the [tutorial](http://docs.ibis-project.org/tutorial.html) or the [API reference](http://docs.ibis-project.org/api.html). Much more documentation will get written over the coming months, but this gives you an idea of the kind of analysis that's made very easy with Ibis once you learn the DSL. "
     ]
    },
    {
     "cell_type": "markdown",
     "metadata": {},
     "source": [
      "By the way, the SQL code that was effectively generated for SQLite by the last expression looks something like this:"
     ]
    },
    {
     "cell_type": "code",
     "collapsed": false,
     "input": [
      "print(ibis.impala.compile(joined))"
     ],
     "language": "python",
     "metadata": {},
     "outputs": [
      {
       "output_type": "stream",
       "stream": "stdout",
       "text": [
        "SELECT *,\n",
        "  isnull(CASE `bucket`\n",
        "    WHEN 0 THEN '0 to 1m'\n",
        "    WHEN 1 THEN '1m to 10m'\n",
        "    WHEN 2 THEN '10m to 50m'\n",
        "    WHEN 3 THEN '50m to 100m'\n",
        "    WHEN 4 THEN '100m to 500m'\n",
        "    WHEN 5 THEN '500m to 1b'\n",
        "    WHEN 6 THEN 'Over 1b'\n",
        "    ELSE NULL\n",
        "  END, 'Unknown') AS `bucket_name`\n",
        "FROM (\n",
        "  SELECT `bucket`, `status`, count(*) AS `count`\n",
        "  FROM (\n",
        "    SELECT `permalink`, `name`, `homepage_url`, `category_list`, `market`,\n",
        "           `funding_total_usd`, isnull(`status`, 'Unknown') AS `status`,\n",
        "           `country_code`, `state_code`, `region`, `city`, `funding_rounds`,\n",
        "           `founded_at`, `founded_month`, `founded_quarter`, `founded_year`,\n",
        "           `first_funding_at`, `last_funding_at`,\n",
        "      CASE\n",
        "        WHEN (`funding_total_usd` >= 0) AND (`funding_total_usd` < 1000000) THEN 0\n",
        "        WHEN (`funding_total_usd` >= 1000000) AND (`funding_total_usd` < 10000000) THEN 1\n",
        "        WHEN (`funding_total_usd` >= 10000000) AND (`funding_total_usd` < 50000000) THEN 2\n",
        "        WHEN (`funding_total_usd` >= 50000000) AND (`funding_total_usd` < 100000000) THEN 3\n",
        "        WHEN (`funding_total_usd` >= 100000000) AND (`funding_total_usd` < 500000000) THEN 4\n",
        "        WHEN (`funding_total_usd` >= 500000000) AND (`funding_total_usd` <= 1000000000) THEN 5\n",
        "        WHEN `funding_total_usd` > 1000000000 THEN 6\n",
        "        ELSE NULL\n",
        "      END AS `bucket`\n",
        "    FROM companies\n",
        "    WHERE (`founded_at` > '2010-01-01') OR `founded_at` IS NULL\n",
        "  ) t1\n",
        "  GROUP BY 1, 2\n",
        ") t0\n"
       ]
      }
     ],
     "prompt_number": 18
    },
    {
     "cell_type": "markdown",
     "metadata": {},
     "source": [
      "Bet you are glad you didn't have to write it by hand!"
     ]
    },
    {
     "cell_type": "markdown",
     "metadata": {},
     "source": [
      "## Acquisition rate by investor\n",
      "\n",
      "Suppose you were interested in what percentage of a particular venture capital firm's companies eventually get acquired. My friends at Mode Analytics [solved this problem in SQL](https://modeanalytics.com/benn/reports/6cd65aab4e18) and I reproduce that query here:\n",
      "\n",
      "```sql\n",
      "SELECT *,\n",
      "       acquisitions_ipos/number_of_investments::FLOAT AS acquitision_rate\n",
      "  FROM (\n",
      "SELECT CASE WHEN i.investor_name IS NULL THEN 'NO INVESTOR'\n",
      "            ELSE i.investor_name END \"Investor name\",\n",
      "        COUNT(DISTINCT c.permalink) AS number_of_investments,\n",
      "        COUNT(DISTINCT\n",
      "        CASE WHEN c.status IN ('ipo', 'acquired') THEN c.permalink END) \n",
      "        AS acquisitions_ipos\n",
      "       FROM tutorial.crunchbase_companies c\n",
      "       LEFT JOIN tutorial.crunchbase_investments i\n",
      "       ON c.permalink = i.company_permalink\n",
      "       GROUP BY 1\n",
      "       ORDER BY 2 DESC\n",
      "     ) a\n",
      "LIMIT 100\n",
      "```\n",
      "\n",
      "Let's reproduce this piece by piece with Ibis. A few things first"
     ]
    },
    {
     "cell_type": "code",
     "collapsed": false,
     "input": [
      "i = con.table('investments')\n",
      "c = con.table('companies')\n",
      "\n",
      "clean_name = i.investor_name.fillna('NO INVESTOR').name('investor_name')\n",
      "num_investments = c.permalink.nunique()\n",
      "\n",
      "exited = c.status.isin(['ipo', 'acquired']).ifelse(c.permalink, ibis.NA)\n",
      "num_exits = exited.nunique()"
     ],
     "language": "python",
     "metadata": {},
     "outputs": [],
     "prompt_number": 19
    },
    {
     "cell_type": "markdown",
     "metadata": {},
     "source": [
      "These are just the basic statistics. Now let's join the tables and compute the acquisition rate:"
     ]
    },
    {
     "cell_type": "code",
     "collapsed": false,
     "input": [
      "stats = (c.left_join(i, c.permalink == i.company_permalink)\n",
      "         .group_by(clean_name)\n",
      "         .aggregate(num_investments=num_investments, \n",
      "                    num_exits=num_exits))\n",
      "\n",
      "stats = (stats.mutate(acq_rate=(stats.num_exits / \n",
      "                                stats.num_investments.cast('float'))))\n",
      "stats.limit(10)"
     ],
     "language": "python",
     "metadata": {},
     "outputs": [
      {
       "metadata": {},
       "output_type": "pyout",
       "prompt_number": 22,
       "text": [
        "          investor_name  num_exits  num_investments  acq_rate\n",
        "0                     .          0                1  0.000000\n",
        "1         .406 Ventures          4               27  0.148148\n",
        "2            01Startups          0                1  0.000000\n",
        "3     1-800-FLOWERS.COM          0                1  0.000000\n",
        "4             10 Others          0                1  0.000000\n",
        "5          101 Startups          0                5  0.000000\n",
        "6       105 Capital LLC          0                1  0.000000\n",
        "7           10X Fund LP          0                1  0.000000\n",
        "8  10X Venture Partners          0                2  0.000000\n",
        "9           10Xelerator          1               21  0.047619"
       ]
      }
     ],
     "prompt_number": 22
    },
    {
     "cell_type": "markdown",
     "metadata": {},
     "source": [
      "Okay. Now let's look at the most successful investors who have made at least 100 investments:"
     ]
    },
    {
     "cell_type": "code",
     "collapsed": false,
     "input": [
      "great_success = (stats\n",
      "                 [stats.num_investments > 100]\n",
      "                 .sort_by(ibis.desc('acq_rate')))\n",
      "top20 = great_success.limit(20)\n",
      "\n",
      "top20"
     ],
     "language": "python",
     "metadata": {},
     "outputs": [
      {
       "metadata": {},
       "output_type": "pyout",
       "prompt_number": 23,
       "text": [
        "                     investor_name  num_exits  num_investments  acq_rate\n",
        "0                       Ron Conway         52              119  0.436975\n",
        "1                  Summit Partners         94              260  0.361538\n",
        "2                 Trinity Ventures         42              125  0.336000\n",
        "3                 Felicis Ventures         56              173  0.323699\n",
        "4                  Austin Ventures         36              113  0.318584\n",
        "5                   Menlo Ventures         54              171  0.315789\n",
        "6                    Mayfield Fund         40              131  0.305344\n",
        "7                              CRV         51              168  0.303571\n",
        "8               Foundation Capital         41              137  0.299270\n",
        "9                        Benchmark         52              180  0.288889\n",
        "10  Norwest Venture Partners - NVP         41              144  0.284722\n",
        "11                 Shasta Ventures         28              101  0.277228\n",
        "12                SoftBank Capital         35              127  0.275591\n",
        "13                        SV Angel        139              516  0.269380\n",
        "14                    DAG Ventures         32              119  0.268908\n",
        "15               Greylock Partners         62              231  0.268398\n",
        "16               Ignition Partners         30              112  0.267857\n",
        "17                         Venrock         40              153  0.261438\n",
        "18                   True Ventures         39              152  0.256579\n",
        "19                 Canaan Partners         37              146  0.253425"
       ]
      }
     ],
     "prompt_number": 23
    },
    {
     "cell_type": "markdown",
     "metadata": {},
     "source": [
      "Have fun with this data and look out for more blog posts on it to illustrate Ibis features."
     ]
    }
   ],
   "metadata": {}
  }
 ]
}