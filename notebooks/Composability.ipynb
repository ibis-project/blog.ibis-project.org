{
 "metadata": {
  "name": ""
 },
 "nbformat": 3,
 "nbformat_minor": 0,
 "worksheets": [
  {
   "cells": [
    {
     "cell_type": "markdown",
     "metadata": {},
     "source": [
      "<!-- PELICAN_BEGIN_SUMMARY -->\n",
      "The R community, especially my friend [Hadley Wickham](http://twitter.com/hadleywickham), has done pioneering work in creating expressive and useful domain-specific languages (DSLs) embedded in the R programming language. This articles gives some technical detail on composability and evaluation semantics in R and related work in Ibis to solve the same kinds of problems in a Pythonic way.\n",
      "\n",
      "<!-- PELICAN_END_SUMMARY -->\n",
      "\n",
      "# Non-standard evaluation in dplyr\n",
      "\n",
      "In Hadley's book *Advanced R*, he gives [an extensive look](http://adv-r.had.co.nz/Computing-on-the-language.html) at a tool available to R programmers called *non-standard evaluation* (NSE). Users of `ggplot2` or `dplyr` (or other Hadleyverse packages) will be familiar with this \u2014 it is also used in base R for model formulas. \n",
      "\n",
      "> NB. For the programming language junkies, NSE originates from the homoiconic Lisp tradition of \"code as data\". The R language implementation *is* at its core a kind of Lisp interpreter! \n",
      "\n",
      "Let's take an example from one of the dplyr vignettes on everyone's favorite [airlines dataset](http://blog.ibis-project.org/pages/data.html). \n",
      "\n",
      "```R\n",
      "airlines %>%\n",
      "  filter(!is.na(dep_delay)) %>%\n",
      "  group_by(year, month, day) %>%\n",
      "  summarise(delay = mean(dep_delay)) %>%\n",
      "  arrange(desc(delay)) %>%\n",
      "  head(5)\n",
      "```\n",
      "\n",
      "As a Python programmer, you might ask \"what in tarnation is going on here?\". Indeed, very few of the symbols in this code block are valid variables in the local scope. The short story is that the code (or *data* would be more accurate) inside the function calls is evaluated in the context of the \"calling\" data frame. So the NSE code\n",
      "\n",
      "```R\n",
      "airlines %>% \n",
      "  filter(!is.na(dep_delay))\n",
      "```\n",
      "\n",
      "Is equivalent to the more explicit non-NSE code (written here without the pipe `%>%`):\n",
      "\n",
      "```R\n",
      "filter(airlines, !is.na(airlines$dep_delay))\n",
      "```\n",
      "\n",
      "What is really nice about NSE is that you can refer to new data frame columns that appear during a set of composed operations. For example, the step `arrange(desc(delay))` refers to `delay` which appeared during the aggregation `summarise(delay = mean(dep_delay))`.\n",
      "\n",
      "The sad thing about NSE is that it's *very* unpythonic. It goes directly against a core tenet: \"Explicit is better than implicit.\" It also can make debugging more difficult with complex expressions involving many NSE variables and functions. \n",
      "\n",
      "> Doing NSE in Python actually *is* possible, but it won't make you very many friends. I wrote a [blog post about it](http://wesmckinney.com/blog/python-r-and-the-allure-of-magic/) several years ago. \n",
      "\n",
      "In the above example, the lack of NSE doesn't hurt us very much:"
     ]
    },
    {
     "cell_type": "code",
     "collapsed": false,
     "input": [
      "import ibis\n",
      "ibis.options.interactive = True\n",
      "con = ibis.impala.connect('bottou01.sjc.cloudera.com')\n",
      "\n",
      "t = con.table('wes.airlines_parquet')\n",
      "\n",
      "expr = (t[t.depdelay.notnull()]\n",
      "        .group_by(['year', 'month', 'day'])\n",
      "        .aggregate(t.depdelay.mean().name('delay'))\n",
      "        .sort_by(ibis.desc('delay'))\n",
      "        .limit(5))\n",
      "expr"
     ],
     "language": "python",
     "metadata": {},
     "outputs": [
      {
       "metadata": {},
       "output_type": "pyout",
       "prompt_number": 1,
       "text": [
        "   year  month  day      delay\n",
        "0  2001      9   13  75.139792\n",
        "1  2001      9   14  47.194577\n",
        "2  1990     12   21  45.661782\n",
        "3  1990     12   22  45.222249\n",
        "4  1990     12   28  43.914432"
       ]
      }
     ],
     "prompt_number": 1
    },
    {
     "cell_type": "markdown",
     "metadata": {},
     "source": [
      "Okay, so we're able to do the same thing using strings to reference columns, but let's take a more complex example where this will fail us and require writing down local variables. The trouble comes from needing to form some non-trivial expression during a set of composed operations: "
     ]
    },
    {
     "cell_type": "code",
     "collapsed": false,
     "input": [
      "expr = (t[t.depdelay.notnull()]\n",
      "        .mutate(leg=ibis.literal('-').join([t.origin, t.dest]))\n",
      "        ['year', 'month', 'day', 'depdelay', 'leg'])\n",
      "expr.limit(10)"
     ],
     "language": "python",
     "metadata": {},
     "outputs": [
      {
       "metadata": {},
       "output_type": "pyout",
       "prompt_number": 2,
       "text": [
        "   year  month  day  depdelay      leg\n",
        "0  1999     12   22        -1  SDF-CVG\n",
        "1  1999     12   23         2  SDF-CVG\n",
        "2  1999     12   24         3  SDF-CVG\n",
        "3  1999     12   25         0  SDF-CVG\n",
        "4  1999     12   26         3  SDF-CVG\n",
        "5  1999     12   27         2  SDF-CVG\n",
        "6  1999     12   28         0  SDF-CVG\n",
        "7  1999     12   29        -4  SDF-CVG\n",
        "8  1999     12   30        -8  SDF-CVG\n",
        "9  1999     12   31        -2  SDF-CVG"
       ]
      }
     ],
     "prompt_number": 2
    },
    {
     "cell_type": "markdown",
     "metadata": {},
     "source": [
      "Suppose now we wanted to only look at a few legs of interest, like `SFO-JFK` and `SFO-EWR`:"
     ]
    },
    {
     "cell_type": "code",
     "collapsed": false,
     "input": [
      "expr[expr.leg.isin(['SFO-JFK', 'SFO-EWR'])].limit(10)"
     ],
     "language": "python",
     "metadata": {},
     "outputs": [
      {
       "metadata": {},
       "output_type": "pyout",
       "prompt_number": 3,
       "text": [
        "   year  month  day  depdelay      leg\n",
        "0  1995     12    1         0  SFO-JFK\n",
        "1  1995     12    2        37  SFO-JFK\n",
        "2  1995     12    3         1  SFO-JFK\n",
        "3  1995     12    4         4  SFO-JFK\n",
        "4  1995     12    5         0  SFO-JFK\n",
        "5  1995     12    6         1  SFO-JFK\n",
        "6  1995     12    7         0  SFO-JFK\n",
        "7  1995     12    8         3  SFO-JFK\n",
        "8  1995     12   10         2  SFO-JFK\n",
        "9  1995     12   11        31  SFO-JFK"
       ]
      }
     ],
     "prompt_number": 3
    },
    {
     "cell_type": "markdown",
     "metadata": {},
     "source": [
      "Hmm."
     ]
    },
    {
     "cell_type": "markdown",
     "metadata": {},
     "source": [
      "# \"Late\" binding using functions"
     ]
    },
    {
     "cell_type": "markdown",
     "metadata": {},
     "source": [
      "One Pythonic solution to the composability conundrum is to pass functions as parameters. This simulates NSE's \"late binding\" semantics in a way that doesn't break any rules about standard Python best practices. "
     ]
    },
    {
     "cell_type": "code",
     "collapsed": false,
     "input": [
      "expr = (t[t.depdelay.notnull()]\n",
      "        .mutate(leg=ibis.literal('-').join([t.origin, t.dest]))\n",
      "        .filter(lambda x: x.leg.isin(['SFO-JFK', 'SFO-EWR']))\n",
      "        .group_by(['year', 'month', 'leg'])\n",
      "        .aggregate([lambda x: x.depdelay.mean().name('avg_delay'),\n",
      "                    lambda x: x.count().name('# flights')])\n",
      "        .sort_by(ibis.desc('avg_delay'))\n",
      "        .limit(10))\n",
      "expr"
     ],
     "language": "python",
     "metadata": {},
     "outputs": [
      {
       "metadata": {},
       "output_type": "pyout",
       "prompt_number": 4,
       "text": [
        "   year  month      leg  avg_delay  # flights\n",
        "0  2008     12  SFO-EWR  37.526316        247\n",
        "1  1987     12  SFO-EWR  34.297030        101\n",
        "2  2008      6  SFO-EWR  31.103203        281\n",
        "3  2008      1  SFO-EWR  29.906780        236\n",
        "4  2008      6  SFO-JFK  29.676998        613\n",
        "5  1988      1  SFO-EWR  28.398058        103\n",
        "6  2008      3  SFO-EWR  24.672269        238\n",
        "7  2000      5  SFO-EWR  23.857923        366\n",
        "8  2008      7  SFO-JFK  23.512821        624\n",
        "9  1989      3  SFO-EWR  23.114035        114"
       ]
      }
     ],
     "prompt_number": 4
    },
    {
     "cell_type": "markdown",
     "metadata": {},
     "source": [
      "It's a bit of a mouthful with those extra `lambda`'s, but it's also kind of nice! Note that Ibis doesn't force you to write one long set of composed operations (feel free to write down as many local variables saving intermediate expressions as you like), but it's nice to have the option! (Also, remind me to avoid Newark airport.)\n",
      "\n",
      "For the curious, here's the SQL that's generated by this expression:\n",
      "\n",
      "```sql\n",
      "SELECT t0.`year`, t0.`month`, t0.`leg`, avg(t0.`depdelay`) AS `avg_delay`,\n",
      "       count(*) AS `# flights`\n",
      "FROM (\n",
      "  SELECT *, concat_ws('-', `origin`, `dest`) AS `leg`\n",
      "  FROM wes.airlines_parquet\n",
      "  WHERE `depdelay` IS NOT NULL\n",
      ") t0\n",
      "WHERE t0.`leg` IN ('SFO-JFK', 'SFO-EWR')\n",
      "GROUP BY 1, 2, 3\n",
      "ORDER BY `avg_delay` DESC\n",
      "LIMIT 10\n",
      "```"
     ]
    },
    {
     "cell_type": "markdown",
     "metadata": {},
     "source": [
      "# The `pipe` method\n",
      "\n",
      "Another tool to aid composability is the `pipe` table method, which was also added to pandas in version 0.16.2. Basically, `pipe` makes the statement\n",
      "\n",
      "```python\n",
      "table.pipe(f, **f_kwargs).pipe(g, **g_kwargs)\n",
      "```\n",
      "\n",
      "equivalent to\n",
      "\n",
      "```python\n",
      "g(f(table, **f_kwargs), **g_kwargs)\n",
      "```\n",
      "\n",
      "In R, you could write:\n",
      "\n",
      "```R\n",
      "table %>% f(...) %>% g(...)\n",
      "```\n",
      "\n",
      "So in Ibis, you could write little helper functions that deal in common table idioms for your application. Let me give you an example that removes any rows containing nulls amongst an input set of columns:"
     ]
    },
    {
     "cell_type": "code",
     "collapsed": false,
     "input": [
      "def remove_nulls_in(*cols):\n",
      "    def f(table):\n",
      "        cond = None\n",
      "        for c in cols:\n",
      "            mask = table[c].notnull()\n",
      "            cond = mask if cond is None else cond & mask\n",
      "        return cond\n",
      "    return f\n",
      "\n",
      "filtered = t.pipe(remove_nulls_in('depdelay', 'arrdelay'))"
     ],
     "language": "python",
     "metadata": {},
     "outputs": [],
     "prompt_number": 5
    },
    {
     "cell_type": "markdown",
     "metadata": {},
     "source": [
      "Using these tools, you can augment the built-in Ibis DSL constructs to suit your needs, implementing analytics faster with less code. "
     ]
    }
   ],
   "metadata": {}
  }
 ]
}