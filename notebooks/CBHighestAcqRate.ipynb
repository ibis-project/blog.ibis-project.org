{
 "metadata": {
  "name": ""
 },
 "nbformat": 3,
 "nbformat_minor": 0,
 "worksheets": [
  {
   "cells": [
    {
     "cell_type": "markdown",
     "metadata": {},
     "source": [
      "## Acquisition rate by investor\n",
      "\n",
      "Suppose you were interested in what percentage of a particular venture capital firm's companies eventually get acquired. My friends at Mode Analytics [solved this problem in SQL](https://modeanalytics.com/benn/reports/6cd65aab4e18) and I reproduce that query here:\n",
      "\n",
      "```sql\n",
      "SELECT *,\n",
      "       acquisitions_ipos/number_of_investments::FLOAT AS acquitision_rate\n",
      "  FROM (\n",
      "SELECT CASE WHEN i.investor_name IS NULL THEN 'NO INVESTOR'\n",
      "            ELSE i.investor_name END \"Investor name\",\n",
      "        COUNT(DISTINCT c.permalink) AS number_of_investments,\n",
      "        COUNT(DISTINCT\n",
      "        CASE WHEN c.status IN ('ipo', 'acquired') THEN c.permalink END) \n",
      "        AS acquisitions_ipos\n",
      "       FROM tutorial.crunchbase_companies c\n",
      "       LEFT JOIN tutorial.crunchbase_investments i\n",
      "       ON c.permalink = i.company_permalink\n",
      "       GROUP BY 1\n",
      "       ORDER BY 2 DESC\n",
      "     ) a\n",
      "LIMIT 100\n",
      "```\n",
      "\n",
      "Let's reproduce this piece by piece with Ibis. A few things first"
     ]
    },
    {
     "cell_type": "code",
     "collapsed": false,
     "input": [
      "import ibis\n",
      "ibis.options.interactive = True\n",
      "\n",
      "con = ibis.sqlite.connect('crunchbase.db')\n",
      "\n"
     ],
     "language": "python",
     "metadata": {},
     "outputs": [],
     "prompt_number": 1
    },
    {
     "cell_type": "markdown",
     "metadata": {},
     "source": []
    },
    {
     "cell_type": "code",
     "collapsed": false,
     "input": [
      "stats = (c.left_join(i, c.permalink == i.company_permalink)\n",
      "         .group_by(clean_name)\n",
      "         .aggregate(num_investments=num_investments, \n",
      "                    num_exits=num_exits))\n",
      "\n",
      "stats = (stats.mutate(acq_rate=(stats.num_exits / \n",
      "                                stats.num_investments.cast('float'))))\n",
      "stats.limit(10)"
     ],
     "language": "python",
     "metadata": {},
     "outputs": [
      {
       "output_type": "stream",
       "stream": "stderr",
       "text": [
        "/home/wesm/anaconda/envs/ibis-blog/lib/python2.7/site-packages/SQLAlchemy-1.0.8-py2.7-linux-x86_64.egg/sqlalchemy/sql/sqltypes.py:565: SAWarning: Dialect sqlite+pysqlite does *not* support Decimal objects natively, and SQLAlchemy must convert from floating point - rounding errors and other issues may occur. Please consider storing Decimal numbers as strings or integers on this platform for lossless storage.\n"
       ]
      },
      {
       "metadata": {},
       "output_type": "pyout",
       "prompt_number": 2,
       "text": [
        "          investor_name  num_exits  num_investments  acq_rate\n",
        "0                     .          0                1  0.000000\n",
        "1         .406 Ventures          4               27  0.148148\n",
        "2            01Startups          0                1  0.000000\n",
        "3     1-800-FLOWERS.COM          0                1  0.000000\n",
        "4             10 Others          0                1  0.000000\n",
        "5          101 Startups          0                5  0.000000\n",
        "6       105 Capital LLC          0                1  0.000000\n",
        "7           10X Fund LP          0                1  0.000000\n",
        "8  10X Venture Partners          0                2  0.000000\n",
        "9           10Xelerator          1               21  0.047619"
       ]
      }
     ],
     "prompt_number": 2
    },
    {
     "cell_type": "markdown",
     "metadata": {},
     "source": [
      "Okay. Now let's look at the most successful investors who have made at least 100 investments:"
     ]
    },
    {
     "cell_type": "code",
     "collapsed": false,
     "input": [
      "great_success = (stats\n",
      "                 [stats.num_investments > 100]\n",
      "                 .sort_by(ibis.desc('acq_rate')))\n",
      "top20 = great_success.limit(20)\n",
      "\n",
      "top20"
     ],
     "language": "python",
     "metadata": {},
     "outputs": [
      {
       "metadata": {},
       "output_type": "pyout",
       "prompt_number": 5,
       "text": [
        "                     investor_name  num_exits  num_investments  acq_rate\n",
        "0                       Ron Conway         52              119  0.436975\n",
        "1                  Summit Partners         94              260  0.361538\n",
        "2                 Trinity Ventures         42              125  0.336000\n",
        "3                 Felicis Ventures         56              173  0.323699\n",
        "4                  Austin Ventures         36              113  0.318584\n",
        "5                   Menlo Ventures         54              171  0.315789\n",
        "6                    Mayfield Fund         40              131  0.305344\n",
        "7                              CRV         51              168  0.303571\n",
        "8               Foundation Capital         41              137  0.299270\n",
        "9                        Benchmark         52              180  0.288889\n",
        "10  Norwest Venture Partners - NVP         41              144  0.284722\n",
        "11                 Shasta Ventures         28              101  0.277228\n",
        "12                SoftBank Capital         35              127  0.275591\n",
        "13                        SV Angel        139              516  0.269380\n",
        "14                    DAG Ventures         32              119  0.268908\n",
        "15               Greylock Partners         62              231  0.268398\n",
        "16               Ignition Partners         30              112  0.267857\n",
        "17                         Venrock         40              153  0.261438\n",
        "18                   True Ventures         39              152  0.256579\n",
        "19                 Canaan Partners         37              146  0.253425"
       ]
      }
     ],
     "prompt_number": 5
    }
   ],
   "metadata": {}
  }
 ]
}