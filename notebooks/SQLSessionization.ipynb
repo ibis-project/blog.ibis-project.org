{
 "metadata": {
  "name": ""
 },
 "nbformat": 3,
 "nbformat_minor": 0,
 "worksheets": [
  {
   "cells": [
    {
     "cell_type": "markdown",
     "metadata": {},
     "source": [
      "First, let's define our example data model. In practice you would get these tables from a running database engine."
     ]
    },
    {
     "cell_type": "code",
     "collapsed": false,
     "input": [
      "import ibis\n",
      "\n",
      "sessions = ibis.table([('user_id', 'int64'),\n",
      "                       ('session_id', 'int64'),\n",
      "                       ('session_date', 'timestamp'),\n",
      "                       ('user_category_one', 'string'),\n",
      "                       ('user_category_two', 'string'),\n",
      "                       ('user_category_three', 'string'),\n",
      "                       ('success_metric', 'double')], 'sessions')\n",
      "\n",
      "events = ibis.table([('session_id', 'int64'),\n",
      "                     ('event_type', 'string'),\n",
      "                     ('event_date', 'timestamp')], 'events')"
     ],
     "language": "python",
     "metadata": {},
     "outputs": [],
     "prompt_number": 1
    },
    {
     "cell_type": "markdown",
     "metadata": {},
     "source": [
      "Now, let's compute the tables with the event occurrences by session:"
     ]
    },
    {
     "cell_type": "code",
     "collapsed": false,
     "input": [
      "event = 'a'\n",
      "indicator = ibis.literal(1).name('{0}_occurred'.format(event))\n",
      "a_events = (events[events.event_type == 'a']\n",
      "            ['session_id', indicator].distinct())\n",
      "\n",
      "print(ibis.impala.compile(a_events))"
     ],
     "language": "python",
     "metadata": {},
     "outputs": [
      {
       "output_type": "stream",
       "stream": "stdout",
       "text": [
        "SELECT DISTINCT `session_id`, 1 AS `a_occurred`\n",
        "FROM (\n",
        "  SELECT *\n",
        "  FROM events\n",
        "  WHERE `event_type` = 'a'\n",
        ") t0\n"
       ]
      }
     ],
     "prompt_number": 2
    },
    {
     "cell_type": "markdown",
     "metadata": {},
     "source": [
      "We can turn this process into a reusable function, then carry out the rest of the analysis through joins and null cleanup:"
     ]
    },
    {
     "cell_type": "code",
     "collapsed": false,
     "input": [
      "def get_events(event):\n",
      "    indicator = ibis.literal(1).name('occurred')\n",
      "    return (events[events.event_type == event]\n",
      "            ['session_id', indicator].distinct())\n",
      "\n",
      "S = sessions\n",
      "\n",
      "a_events = get_events('a')\n",
      "b_events = get_events('b')\n",
      "joined_all = (S.left_join(a_events, S.session_id == a_events.session_id)\n",
      "              .left_join(b_events, S.session_id == b_events.session_id))\n",
      "\n",
      "exprs = [S,\n",
      "         a_events.occurred.fillna(0).name('a_occurred'),\n",
      "         b_events.occurred.fillna(0).name('b_occurred')]       \n",
      "\n",
      "result = joined_all[exprs]\n",
      "\n",
      "print ibis.impala.compile(result)"
     ],
     "language": "python",
     "metadata": {},
     "outputs": [
      {
       "output_type": "stream",
       "stream": "stdout",
       "text": [
        "SELECT t0.*, isnull(t1.`occurred`, 0) AS `a_occurred`,\n",
        "       isnull(t2.`occurred`, 0) AS `b_occurred`\n",
        "FROM sessions t0\n",
        "  LEFT OUTER JOIN (\n",
        "    SELECT DISTINCT `session_id`, 1 AS `occurred`\n",
        "    FROM (\n",
        "      SELECT *\n",
        "      FROM events\n",
        "      WHERE `event_type` = 'a'\n",
        "    ) t3\n",
        "  ) t1\n",
        "    ON t0.`session_id` = t1.`session_id`\n",
        "  LEFT OUTER JOIN (\n",
        "    SELECT DISTINCT `session_id`, 1 AS `occurred`\n",
        "    FROM (\n",
        "      SELECT *\n",
        "      FROM events\n",
        "      WHERE `event_type` = 'b'\n",
        "    ) t3\n",
        "  ) t2\n",
        "    ON t0.`session_id` = t2.`session_id`\n"
       ]
      }
     ],
     "prompt_number": 3
    },
    {
     "cell_type": "markdown",
     "metadata": {},
     "source": [
      "What is especially nice about this is that it's straightforward to generalize it to an arbitrary number of events:"
     ]
    },
    {
     "cell_type": "code",
     "collapsed": false,
     "input": [
      "def sessionize(event_names):\n",
      "    joined = S\n",
      "    result_exprs = [S]\n",
      "    \n",
      "    for event in event_names:\n",
      "        O = get_events(event)\n",
      "        joined = joined.left_join(O, S.session_id == O.session_id) \n",
      "\n",
      "        expr = O.occurred.fillna(0).name('{0}_occurred'.format(event))\n",
      "        result_exprs.append(expr)\n",
      "        \n",
      "    return joined[result_exprs]\n",
      "\n",
      "\n",
      "result = sessionize(['a', 'b', 'c', 'd'])\n",
      "\n",
      "print(ibis.impala.compile(result))"
     ],
     "language": "python",
     "metadata": {},
     "outputs": [
      {
       "output_type": "stream",
       "stream": "stdout",
       "text": [
        "SELECT t0.*, isnull(t1.`occurred`, 0) AS `a_occurred`,\n",
        "       isnull(t2.`occurred`, 0) AS `b_occurred`,\n",
        "       isnull(t3.`occurred`, 0) AS `c_occurred`,\n",
        "       isnull(t4.`occurred`, 0) AS `d_occurred`\n",
        "FROM sessions t0\n",
        "  LEFT OUTER JOIN (\n",
        "    SELECT DISTINCT `session_id`, 1 AS `occurred`\n",
        "    FROM (\n",
        "      SELECT *\n",
        "      FROM events\n",
        "      WHERE `event_type` = 'a'\n",
        "    ) t5\n",
        "  ) t1\n",
        "    ON t0.`session_id` = t1.`session_id`\n",
        "  LEFT OUTER JOIN (\n",
        "    SELECT DISTINCT `session_id`, 1 AS `occurred`\n",
        "    FROM (\n",
        "      SELECT *\n",
        "      FROM events\n",
        "      WHERE `event_type` = 'b'\n",
        "    ) t5\n",
        "  ) t2\n",
        "    ON t0.`session_id` = t2.`session_id`\n",
        "  LEFT OUTER JOIN (\n",
        "    SELECT DISTINCT `session_id`, 1 AS `occurred`\n",
        "    FROM (\n",
        "      SELECT *\n",
        "      FROM events\n",
        "      WHERE `event_type` = 'c'\n",
        "    ) t5\n",
        "  ) t3\n",
        "    ON t0.`session_id` = t3.`session_id`\n",
        "  LEFT OUTER JOIN (\n",
        "    SELECT DISTINCT `session_id`, 1 AS `occurred`\n",
        "    FROM (\n",
        "      SELECT *\n",
        "      FROM events\n",
        "      WHERE `event_type` = 'd'\n",
        "    ) t5\n",
        "  ) t4\n",
        "    ON t0.`session_id` = t4.`session_id`\n"
       ]
      }
     ],
     "prompt_number": 4
    }
   ],
   "metadata": {}
  }
 ]
}